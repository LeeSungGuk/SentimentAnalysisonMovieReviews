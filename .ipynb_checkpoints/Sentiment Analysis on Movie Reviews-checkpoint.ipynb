{
 "cells": [
  {
   "cell_type": "markdown",
   "metadata": {},
   "source": [
    "### Sentiment Analysis on Movie Reviews"
   ]
  },
  {
   "cell_type": "code",
   "execution_count": 127,
   "metadata": {
    "collapsed": false
   },
   "outputs": [],
   "source": [
    "import pandas as pd\n",
    "import numpy as np\n",
    "\n",
    "from sklearn.cross_validation import train_test_split\n",
    "from sklearn.feature_extraction.text import CountVectorizer, TfidfVectorizer\n",
    "from sklearn.svm import SVC\n",
    "from sklearn.metrics import classification_report, accuracy_score\n",
    "from sklearn.linear_model import SGDClassifier\n",
    "from sklearn.pipeline import Pipeline\n",
    "from sklearn.tree import DecisionTreeClassifier\n",
    "from sklearn.ensemble import RandomForestClassifier, BaggingClassifier, VotingClassifier\n",
    "from sklearn.cross_validation import StratifiedKFold\n",
    "from sklearn.naive_bayes import MultinomialNB\n",
    "from sklearn.discriminant_analysis import QuadraticDiscriminantAnalysis"
   ]
  },
  {
   "cell_type": "markdown",
   "metadata": {},
   "source": [
    "### 1. Pre processing"
   ]
  },
  {
   "cell_type": "code",
   "execution_count": 2,
   "metadata": {
    "collapsed": false
   },
   "outputs": [],
   "source": [
    "read_file = pd.read_csv('./resource/train.tsv', sep='\\t')\n",
    "test_file = pd.read_csv('./resource/test.tsv', sep='\\t')\n",
    "\n",
    "corpus_file = pd.read_excel('./resource/harvard_copus_excel.xlsx')"
   ]
  },
  {
   "cell_type": "markdown",
   "metadata": {},
   "source": [
    "### 하버드 감정사전\n",
    "#### 어떻게 이용할것인가?"
   ]
  },
  {
   "cell_type": "code",
   "execution_count": 13,
   "metadata": {
    "collapsed": true
   },
   "outputs": [
    {
     "data": {
      "text/html": [
       "<div>\n",
       "<table border=\"1\" class=\"dataframe\">\n",
       "  <thead>\n",
       "    <tr style=\"text-align: right;\">\n",
       "      <th></th>\n",
       "      <th>Entry</th>\n",
       "      <th>Source</th>\n",
       "      <th>Positiv</th>\n",
       "      <th>Negativ</th>\n",
       "      <th>Pstv</th>\n",
       "      <th>Affil</th>\n",
       "      <th>Ngtv</th>\n",
       "      <th>Hostile</th>\n",
       "      <th>Strong</th>\n",
       "      <th>Power</th>\n",
       "      <th>...</th>\n",
       "      <th>Anomie</th>\n",
       "      <th>NegAff</th>\n",
       "      <th>PosAff</th>\n",
       "      <th>SureLw</th>\n",
       "      <th>If</th>\n",
       "      <th>NotLw</th>\n",
       "      <th>TimeSpc</th>\n",
       "      <th>FormLw</th>\n",
       "      <th>Othtags</th>\n",
       "      <th>Defined</th>\n",
       "    </tr>\n",
       "  </thead>\n",
       "  <tbody>\n",
       "    <tr>\n",
       "      <th>11783</th>\n",
       "      <td>ZENITH</td>\n",
       "      <td>H4</td>\n",
       "      <td>Positiv</td>\n",
       "      <td>NaN</td>\n",
       "      <td>NaN</td>\n",
       "      <td>NaN</td>\n",
       "      <td>NaN</td>\n",
       "      <td>NaN</td>\n",
       "      <td>NaN</td>\n",
       "      <td>NaN</td>\n",
       "      <td>...</td>\n",
       "      <td>NaN</td>\n",
       "      <td>NaN</td>\n",
       "      <td>NaN</td>\n",
       "      <td>NaN</td>\n",
       "      <td>NaN</td>\n",
       "      <td>NaN</td>\n",
       "      <td>NaN</td>\n",
       "      <td>NaN</td>\n",
       "      <td>Noun</td>\n",
       "      <td>|</td>\n",
       "    </tr>\n",
       "    <tr>\n",
       "      <th>11784</th>\n",
       "      <td>ZERO</td>\n",
       "      <td>H4Lvd</td>\n",
       "      <td>NaN</td>\n",
       "      <td>NaN</td>\n",
       "      <td>NaN</td>\n",
       "      <td>NaN</td>\n",
       "      <td>NaN</td>\n",
       "      <td>NaN</td>\n",
       "      <td>NaN</td>\n",
       "      <td>NaN</td>\n",
       "      <td>...</td>\n",
       "      <td>NaN</td>\n",
       "      <td>NaN</td>\n",
       "      <td>NaN</td>\n",
       "      <td>NaN</td>\n",
       "      <td>NaN</td>\n",
       "      <td>NaN</td>\n",
       "      <td>NaN</td>\n",
       "      <td>NaN</td>\n",
       "      <td>DET</td>\n",
       "      <td>|</td>\n",
       "    </tr>\n",
       "    <tr>\n",
       "      <th>11785</th>\n",
       "      <td>ZEST</td>\n",
       "      <td>H4</td>\n",
       "      <td>Positiv</td>\n",
       "      <td>NaN</td>\n",
       "      <td>NaN</td>\n",
       "      <td>NaN</td>\n",
       "      <td>NaN</td>\n",
       "      <td>NaN</td>\n",
       "      <td>Strong</td>\n",
       "      <td>NaN</td>\n",
       "      <td>...</td>\n",
       "      <td>NaN</td>\n",
       "      <td>NaN</td>\n",
       "      <td>NaN</td>\n",
       "      <td>NaN</td>\n",
       "      <td>NaN</td>\n",
       "      <td>NaN</td>\n",
       "      <td>NaN</td>\n",
       "      <td>NaN</td>\n",
       "      <td>Noun</td>\n",
       "      <td>|</td>\n",
       "    </tr>\n",
       "    <tr>\n",
       "      <th>11786</th>\n",
       "      <td>ZINC</td>\n",
       "      <td>H4Lvd</td>\n",
       "      <td>NaN</td>\n",
       "      <td>NaN</td>\n",
       "      <td>NaN</td>\n",
       "      <td>NaN</td>\n",
       "      <td>NaN</td>\n",
       "      <td>NaN</td>\n",
       "      <td>NaN</td>\n",
       "      <td>NaN</td>\n",
       "      <td>...</td>\n",
       "      <td>NaN</td>\n",
       "      <td>NaN</td>\n",
       "      <td>NaN</td>\n",
       "      <td>NaN</td>\n",
       "      <td>NaN</td>\n",
       "      <td>NaN</td>\n",
       "      <td>NaN</td>\n",
       "      <td>NaN</td>\n",
       "      <td>Noun</td>\n",
       "      <td>|</td>\n",
       "    </tr>\n",
       "    <tr>\n",
       "      <th>11787</th>\n",
       "      <td>ZONE</td>\n",
       "      <td>H4Lvd</td>\n",
       "      <td>NaN</td>\n",
       "      <td>NaN</td>\n",
       "      <td>NaN</td>\n",
       "      <td>NaN</td>\n",
       "      <td>NaN</td>\n",
       "      <td>NaN</td>\n",
       "      <td>NaN</td>\n",
       "      <td>NaN</td>\n",
       "      <td>...</td>\n",
       "      <td>NaN</td>\n",
       "      <td>NaN</td>\n",
       "      <td>NaN</td>\n",
       "      <td>NaN</td>\n",
       "      <td>NaN</td>\n",
       "      <td>NaN</td>\n",
       "      <td>NaN</td>\n",
       "      <td>NaN</td>\n",
       "      <td>Noun</td>\n",
       "      <td>|</td>\n",
       "    </tr>\n",
       "  </tbody>\n",
       "</table>\n",
       "<p>5 rows × 186 columns</p>\n",
       "</div>"
      ],
      "text/plain": [
       "        Entry Source  Positiv Negativ Pstv Affil Ngtv Hostile  Strong Power  \\\n",
       "11783  ZENITH     H4  Positiv     NaN  NaN   NaN  NaN     NaN     NaN   NaN   \n",
       "11784    ZERO  H4Lvd      NaN     NaN  NaN   NaN  NaN     NaN     NaN   NaN   \n",
       "11785    ZEST     H4  Positiv     NaN  NaN   NaN  NaN     NaN  Strong   NaN   \n",
       "11786    ZINC  H4Lvd      NaN     NaN  NaN   NaN  NaN     NaN     NaN   NaN   \n",
       "11787    ZONE  H4Lvd      NaN     NaN  NaN   NaN  NaN     NaN     NaN   NaN   \n",
       "\n",
       "        ...   Anomie NegAff PosAff SureLw   If NotLw TimeSpc FormLw Othtags  \\\n",
       "11783   ...      NaN    NaN    NaN    NaN  NaN   NaN     NaN    NaN    Noun   \n",
       "11784   ...      NaN    NaN    NaN    NaN  NaN   NaN     NaN    NaN     DET   \n",
       "11785   ...      NaN    NaN    NaN    NaN  NaN   NaN     NaN    NaN    Noun   \n",
       "11786   ...      NaN    NaN    NaN    NaN  NaN   NaN     NaN    NaN    Noun   \n",
       "11787   ...      NaN    NaN    NaN    NaN  NaN   NaN     NaN    NaN    Noun   \n",
       "\n",
       "      Defined  \n",
       "11783       |  \n",
       "11784       |  \n",
       "11785       |  \n",
       "11786       |  \n",
       "11787       |  \n",
       "\n",
       "[5 rows x 186 columns]"
      ]
     },
     "execution_count": 13,
     "metadata": {},
     "output_type": "execute_result"
    }
   ],
   "source": [
    "corpus_file.tail()"
   ]
  },
  {
   "cell_type": "code",
   "execution_count": 3,
   "metadata": {
    "collapsed": false
   },
   "outputs": [
    {
     "name": "stdout",
     "output_type": "stream",
     "text": [
      "<class 'pandas.core.frame.DataFrame'>\n"
     ]
    }
   ],
   "source": [
    "print(type(read_file))"
   ]
  },
  {
   "cell_type": "markdown",
   "metadata": {},
   "source": [
    "### Phrase -> dfx , Sentiment -> dfy"
   ]
  },
  {
   "cell_type": "code",
   "execution_count": 3,
   "metadata": {
    "collapsed": false
   },
   "outputs": [
    {
     "name": "stdout",
     "output_type": "stream",
     "text": [
      "(156060,)\n"
     ]
    }
   ],
   "source": [
    "dfx = read_file.ix[:,2]\n",
    "dfy = read_file.ix[:,3]\n",
    "\n",
    "df_test = read_file.ix[:,2:]\n",
    "print(dfx.shape)"
   ]
  },
  {
   "cell_type": "code",
   "execution_count": 6,
   "metadata": {
    "collapsed": true
   },
   "outputs": [
    {
     "data": {
      "text/html": [
       "<div>\n",
       "<table border=\"1\" class=\"dataframe\">\n",
       "  <thead>\n",
       "    <tr style=\"text-align: right;\">\n",
       "      <th></th>\n",
       "      <th>PhraseId</th>\n",
       "      <th>SentenceId</th>\n",
       "      <th>Phrase</th>\n",
       "      <th>Sentiment</th>\n",
       "    </tr>\n",
       "  </thead>\n",
       "  <tbody>\n",
       "    <tr>\n",
       "      <th>156055</th>\n",
       "      <td>156056</td>\n",
       "      <td>8544</td>\n",
       "      <td>Hearst 's</td>\n",
       "      <td>2</td>\n",
       "    </tr>\n",
       "    <tr>\n",
       "      <th>156056</th>\n",
       "      <td>156057</td>\n",
       "      <td>8544</td>\n",
       "      <td>forced avuncular chortles</td>\n",
       "      <td>1</td>\n",
       "    </tr>\n",
       "    <tr>\n",
       "      <th>156057</th>\n",
       "      <td>156058</td>\n",
       "      <td>8544</td>\n",
       "      <td>avuncular chortles</td>\n",
       "      <td>3</td>\n",
       "    </tr>\n",
       "    <tr>\n",
       "      <th>156058</th>\n",
       "      <td>156059</td>\n",
       "      <td>8544</td>\n",
       "      <td>avuncular</td>\n",
       "      <td>2</td>\n",
       "    </tr>\n",
       "    <tr>\n",
       "      <th>156059</th>\n",
       "      <td>156060</td>\n",
       "      <td>8544</td>\n",
       "      <td>chortles</td>\n",
       "      <td>2</td>\n",
       "    </tr>\n",
       "  </tbody>\n",
       "</table>\n",
       "</div>"
      ],
      "text/plain": [
       "        PhraseId  SentenceId                     Phrase  Sentiment\n",
       "156055    156056        8544                  Hearst 's          2\n",
       "156056    156057        8544  forced avuncular chortles          1\n",
       "156057    156058        8544         avuncular chortles          3\n",
       "156058    156059        8544                  avuncular          2\n",
       "156059    156060        8544                   chortles          2"
      ]
     },
     "execution_count": 6,
     "metadata": {},
     "output_type": "execute_result"
    }
   ],
   "source": [
    "read_file.tail()"
   ]
  },
  {
   "cell_type": "code",
   "execution_count": 7,
   "metadata": {
    "collapsed": true
   },
   "outputs": [
    {
     "data": {
      "text/html": [
       "<div>\n",
       "<table border=\"1\" class=\"dataframe\">\n",
       "  <thead>\n",
       "    <tr style=\"text-align: right;\">\n",
       "      <th></th>\n",
       "      <th>PhraseId</th>\n",
       "      <th>SentenceId</th>\n",
       "      <th>Phrase</th>\n",
       "    </tr>\n",
       "  </thead>\n",
       "  <tbody>\n",
       "    <tr>\n",
       "      <th>0</th>\n",
       "      <td>156061</td>\n",
       "      <td>8545</td>\n",
       "      <td>An intermittently pleasing but mostly routine ...</td>\n",
       "    </tr>\n",
       "    <tr>\n",
       "      <th>1</th>\n",
       "      <td>156062</td>\n",
       "      <td>8545</td>\n",
       "      <td>An intermittently pleasing but mostly routine ...</td>\n",
       "    </tr>\n",
       "    <tr>\n",
       "      <th>2</th>\n",
       "      <td>156063</td>\n",
       "      <td>8545</td>\n",
       "      <td>An</td>\n",
       "    </tr>\n",
       "    <tr>\n",
       "      <th>3</th>\n",
       "      <td>156064</td>\n",
       "      <td>8545</td>\n",
       "      <td>intermittently pleasing but mostly routine effort</td>\n",
       "    </tr>\n",
       "    <tr>\n",
       "      <th>4</th>\n",
       "      <td>156065</td>\n",
       "      <td>8545</td>\n",
       "      <td>intermittently pleasing but mostly routine</td>\n",
       "    </tr>\n",
       "  </tbody>\n",
       "</table>\n",
       "</div>"
      ],
      "text/plain": [
       "   PhraseId  SentenceId                                             Phrase\n",
       "0    156061        8545  An intermittently pleasing but mostly routine ...\n",
       "1    156062        8545  An intermittently pleasing but mostly routine ...\n",
       "2    156063        8545                                                 An\n",
       "3    156064        8545  intermittently pleasing but mostly routine effort\n",
       "4    156065        8545         intermittently pleasing but mostly routine"
      ]
     },
     "execution_count": 7,
     "metadata": {},
     "output_type": "execute_result"
    }
   ],
   "source": [
    "test_file.head()"
   ]
  },
  {
   "cell_type": "markdown",
   "metadata": {},
   "source": [
    "### 2.Feature Engneering"
   ]
  },
  {
   "cell_type": "markdown",
   "metadata": {},
   "source": [
    "#### 2.0 tokenizer"
   ]
  },
  {
   "cell_type": "code",
   "execution_count": 180,
   "metadata": {
    "collapsed": true
   },
   "outputs": [],
   "source": [
    "from nltk.stem import WordNetLemmatizer \n",
    "import re\n",
    "stemmer = WordNetLemmatizer()\n",
    "\n",
    "def stem_tokens(tokens, stemmer):\n",
    "       \n",
    "    stemming = [stemmer.lemmatize(phrase) for phrase in tokens]\n",
    "    \n",
    "    return stemming\n",
    "\n",
    "def tokenizer1(words):\n",
    "\n",
    "    filter_words = re.sub(r'[^a-zA-Z]', \" \", words)\n",
    "    tokens = nltk.word_tokenize(filter_words)\n",
    "    stems = stem_tokens(tokens, stemmer)\n",
    "    return stems"
   ]
  },
  {
   "cell_type": "code",
   "execution_count": 4,
   "metadata": {
    "collapsed": true
   },
   "outputs": [],
   "source": [
    "from nltk.tokenize import word_tokenize\n",
    "from nltk.tag import pos_tag\n",
    "\n",
    "def tokenizer_list(doc):\n",
    "    tagged_list = pos_tag(word_tokenize(doc))\n",
    "    return tagged_list"
   ]
  },
  {
   "cell_type": "markdown",
   "metadata": {},
   "source": [
    "#### 2.0.1 Train, Test set 나누기."
   ]
  },
  {
   "cell_type": "code",
   "execution_count": 178,
   "metadata": {
    "collapsed": false
   },
   "outputs": [],
   "source": [
    "x_train, x_test, y_train, y_test = train_test_split(dfx, dfy, train_size = 40000, test_size = 10000)"
   ]
  },
  {
   "cell_type": "code",
   "execution_count": null,
   "metadata": {
    "collapsed": true
   },
   "outputs": [],
   "source": []
  },
  {
   "cell_type": "code",
   "execution_count": 39,
   "metadata": {
    "collapsed": true
   },
   "outputs": [
    {
     "data": {
      "text/html": [
       "<div>\n",
       "<table border=\"1\" class=\"dataframe\">\n",
       "  <thead>\n",
       "    <tr style=\"text-align: right;\">\n",
       "      <th></th>\n",
       "      <th>Phrase</th>\n",
       "      <th>Sentiment</th>\n",
       "    </tr>\n",
       "  </thead>\n",
       "  <tbody>\n",
       "    <tr>\n",
       "      <th>0</th>\n",
       "      <td>A series of escapades demonstrating the adage ...</td>\n",
       "      <td>1</td>\n",
       "    </tr>\n",
       "    <tr>\n",
       "      <th>1</th>\n",
       "      <td>A series of escapades demonstrating the adage ...</td>\n",
       "      <td>2</td>\n",
       "    </tr>\n",
       "    <tr>\n",
       "      <th>2</th>\n",
       "      <td>A series</td>\n",
       "      <td>2</td>\n",
       "    </tr>\n",
       "    <tr>\n",
       "      <th>3</th>\n",
       "      <td>A</td>\n",
       "      <td>2</td>\n",
       "    </tr>\n",
       "    <tr>\n",
       "      <th>4</th>\n",
       "      <td>series</td>\n",
       "      <td>2</td>\n",
       "    </tr>\n",
       "  </tbody>\n",
       "</table>\n",
       "</div>"
      ],
      "text/plain": [
       "                                              Phrase  Sentiment\n",
       "0  A series of escapades demonstrating the adage ...          1\n",
       "1  A series of escapades demonstrating the adage ...          2\n",
       "2                                           A series          2\n",
       "3                                                  A          2\n",
       "4                                             series          2"
      ]
     },
     "execution_count": 39,
     "metadata": {},
     "output_type": "execute_result"
    }
   ],
   "source": [
    "read_file.ix[:,2:].head()"
   ]
  },
  {
   "cell_type": "code",
   "execution_count": 6,
   "metadata": {
    "collapsed": false
   },
   "outputs": [],
   "source": [
    "tk_list =[(tokenizer_list(row)) for row in x_train]"
   ]
  },
  {
   "cell_type": "code",
   "execution_count": 12,
   "metadata": {
    "collapsed": false
   },
   "outputs": [
    {
     "name": "stdout",
     "output_type": "stream",
     "text": [
      "[('a', 'DT'), ('delightful', 'JJ'), ('romantic', 'JJ'), ('comedy', 'NN'), ('with', 'IN'), ('plenty', 'NN'), ('of', 'IN'), ('bite', 'NN'), ('.', '.')]\n"
     ]
    }
   ],
   "source": [
    "print(tk_list[10])"
   ]
  },
  {
   "cell_type": "markdown",
   "metadata": {},
   "source": [
    "#### 2.1 Count Vectorizer"
   ]
  },
  {
   "cell_type": "code",
   "execution_count": 30,
   "metadata": {
    "collapsed": true
   },
   "outputs": [
    {
     "name": "stdout",
     "output_type": "stream",
     "text": [
      "124232                         routine Hollywood frightfest\n",
      "79985     Rarely has skin looked as beautiful , desirabl...\n",
      "106474                             Schneider 's performance\n",
      "127221                             delicious and delicately\n",
      "126353                                  with terrific flair\n",
      "140985    does n't this film have that an impressionable...\n",
      "36526       rough-around-the-edges , low-budget constraints\n",
      "124620                                           getting at\n",
      "68655         to your lover when you wake up in the morning\n",
      "47420                               stand up in the theater\n",
      "110538                                  is a convincing one\n",
      "21538                                  titular character 's\n",
      "5545                                         things so nice\n",
      "25410                                               are n't\n",
      "113974                                               Irwins\n",
      "141234                              to retrieve her husband\n",
      "49251                                         only fun part\n",
      "15739                                          you riled up\n",
      "79009         `` Spider-Man '' certainly delivers the goods\n",
      "22543     is a really cool bit -- the movie 's conceptio...\n",
      "150908                        its true-to-life characters ,\n",
      "134498                             whose target demographic\n",
      "42584                        The art direction and costumes\n",
      "39636                                             deserving\n",
      "95640                 Extraordinary debut from Josh Koury .\n",
      "28219                                             Aloof and\n",
      "52247      The effort is sincere and the results are honest\n",
      "34462                                       thinly sketched\n",
      "148343                          punctuated by sudden shocks\n",
      "26091     too many scenes toward the end that should mov...\n",
      "                                ...                        \n",
      "93232     childhood innocence combined with indoctrinate...\n",
      "107366    directed with sensitivity and skill by Dana Ja...\n",
      "75802                                        The rare movie\n",
      "105811    his ability to startle has been stifled by the...\n",
      "132272                                        horrified awe\n",
      "95157                    counts heart as important as humor\n",
      "96762                                  we get in FearDotCom\n",
      "95075     gone the same way as their natural instinct fo...\n",
      "64751     that never really busts out of its comfy littl...\n",
      "100292                               be as lonely and needy\n",
      "88909      awful as some of the recent Hollywood trip tripe\n",
      "27725                                                define\n",
      "131104                                     expect much more\n",
      "45468                                     's never dull and\n",
      "65644                   that 's just too boring and obvious\n",
      "34436                                          construction\n",
      "116784                    some fantastic moments and scenes\n",
      "103811                                          personified\n",
      "31711     exercise in sham actor workshops and an affect...\n",
      "62001                                of slapstick sequences\n",
      "84379        , dramatically forceful , and beautifully shot\n",
      "77066                                           may one day\n",
      "44520     that , its title notwithstanding , should have...\n",
      "133599                                           suggesting\n",
      "143615    Sandra Bullock 's best dramatic performance to...\n",
      "88937                                          full-fledged\n",
      "106444                                        to read about\n",
      "6257          It 's more enjoyable than I expected , though\n",
      "37499               potentially incredibly twisting mystery\n",
      "33431                                                Toback\n",
      "Name: Phrase, dtype: object\n"
     ]
    }
   ],
   "source": [
    "print(x_train)"
   ]
  },
  {
   "cell_type": "code",
   "execution_count": 48,
   "metadata": {
    "collapsed": false
   },
   "outputs": [],
   "source": [
    "cv = CountVectorizer(ngram_range=(1,2))\n",
    "phrase_corpus = cv.fit_transform(dfx)\n"
   ]
  },
  {
   "cell_type": "code",
   "execution_count": 49,
   "metadata": {
    "collapsed": false
   },
   "outputs": [],
   "source": [
    "x_train_cv, x_test_cv, y_train_cv, y_test_cv = train_test_split(phrase_corpus, dfy, train_size = 10000, test_size = 10000)"
   ]
  },
  {
   "cell_type": "code",
   "execution_count": null,
   "metadata": {
    "collapsed": false
   },
   "outputs": [],
   "source": []
  },
  {
   "cell_type": "code",
   "execution_count": null,
   "metadata": {
    "collapsed": false
   },
   "outputs": [],
   "source": []
  },
  {
   "cell_type": "code",
   "execution_count": null,
   "metadata": {
    "collapsed": false
   },
   "outputs": [],
   "source": []
  },
  {
   "cell_type": "markdown",
   "metadata": {},
   "source": [
    "#### 2.2 TF-IDF"
   ]
  },
  {
   "cell_type": "code",
   "execution_count": 50,
   "metadata": {
    "collapsed": false
   },
   "outputs": [],
   "source": [
    "import re, nltk\n",
    "tv = TfidfVectorizer(analyzer='word')"
   ]
  },
  {
   "cell_type": "code",
   "execution_count": 51,
   "metadata": {
    "collapsed": false
   },
   "outputs": [],
   "source": [
    "tfidv = tv.fit(dfx)"
   ]
  },
  {
   "cell_type": "code",
   "execution_count": 14,
   "metadata": {
    "collapsed": true
   },
   "outputs": [
    {
     "data": {
      "text/plain": [
       "{u'writings': 9831,\n",
       " u'foul': 3488,\n",
       " u'four': 3492,\n",
       " u'woods': 9783,\n",
       " u'hanging': 3943,\n",
       " u'woody': 9784,\n",
       " u'comically': 1677,\n",
       " u'conjure': 1785,\n",
       " u'crooned': 2010,\n",
       " u'wizardry': 9760,\n",
       " u'originality': 6065,\n",
       " u'superficially': 8521,\n",
       " u'lore': 5181,\n",
       " u'lord': 5180,\n",
       " u'immature': 4325,\n",
       " u'bile': 893,\n",
       " u'screaming': 7565,\n",
       " u'scholar': 7531,\n",
       " u'wooden': 9782,\n",
       " u'succession': 8473,\n",
       " u'stereotypical': 8298,\n",
       " u'straight': 8350,\n",
       " u'sturm': 8422,\n",
       " u'tired': 8896,\n",
       " u'switchblade': 8607,\n",
       " u'bacon': 689,\n",
       " u'270': 52,\n",
       " u'elegant': 2771,\n",
       " u'second': 7602,\n",
       " u'valiant': 9391,\n",
       " u'shrugging': 7820,\n",
       " u'admire': 201,\n",
       " u'ruthless': 7422,\n",
       " u'fingers': 3322,\n",
       " u'negated': 5823,\n",
       " u'payoff': 6287,\n",
       " u'groupie': 3857,\n",
       " u'succumb': 8475,\n",
       " u'shocks': 7779,\n",
       " u'widget': 9693,\n",
       " u'hero': 4062,\n",
       " u'avert': 651,\n",
       " u'intentioned': 4562,\n",
       " u'divertissement': 2497,\n",
       " u'here': 4059,\n",
       " u'china': 1475,\n",
       " u'cult': 2037,\n",
       " u'natured': 5797,\n",
       " u'transfixes': 9004,\n",
       " u'substance': 8448,\n",
       " u'uplifting': 9352,\n",
       " u'pretensions': 6665,\n",
       " u'elaborate': 2763,\n",
       " u'reports': 7162,\n",
       " u'controversy': 1853,\n",
       " u'kidd': 4824,\n",
       " u'karim': 4798,\n",
       " u'military': 5519,\n",
       " u'criticism': 2003,\n",
       " u'golden': 3742,\n",
       " u'gainsbourg': 3603,\n",
       " u'classification': 1545,\n",
       " u'replace': 7156,\n",
       " u'psychological': 6797,\n",
       " u'stern': 8300,\n",
       " u'unit': 9288,\n",
       " u'slivers': 7968,\n",
       " u'presents': 6652,\n",
       " u'insecurity': 4500,\n",
       " u'cannibal': 1264,\n",
       " u'cowering': 1934,\n",
       " u'music': 5734,\n",
       " u'distortions': 2483,\n",
       " u'strike': 8376,\n",
       " u'until': 9338,\n",
       " u'playboy': 6458,\n",
       " u'borstal': 1034,\n",
       " u'successful': 8472,\n",
       " u'brings': 1113,\n",
       " u'georgian': 3675,\n",
       " u'yahoo': 9843,\n",
       " u'scuzzy': 7586,\n",
       " u'hurt': 4241,\n",
       " u'ruminations': 7405,\n",
       " u'glass': 3711,\n",
       " u'holm': 4138,\n",
       " u'90': 83,\n",
       " u'hole': 4131,\n",
       " u'hold': 4127,\n",
       " u'95': 86,\n",
       " u'94': 85,\n",
       " u'irksome': 4624,\n",
       " u'morally': 5645,\n",
       " u'fifths': 3283,\n",
       " u'huppert': 4237,\n",
       " u'blade': 926,\n",
       " u'concepts': 1751,\n",
       " u'plunges': 6500,\n",
       " u'example': 3014,\n",
       " u'owes': 6140,\n",
       " u'wane': 9558,\n",
       " u'household': 4199,\n",
       " u'beautifully': 787,\n",
       " u'dragons': 2591,\n",
       " u'want': 9563,\n",
       " u'gargantuan': 3628,\n",
       " u'absolute': 106,\n",
       " u'preferably': 6634,\n",
       " u'provincial': 6784,\n",
       " u'tchaikovsky': 8694,\n",
       " u'gremlins': 3826,\n",
       " u'travel': 9024,\n",
       " u'feature': 3238,\n",
       " u'machine': 5248,\n",
       " u'how': 4201,\n",
       " u'hot': 4191,\n",
       " u'hos': 4189,\n",
       " u'hop': 4167,\n",
       " u'significance': 7843,\n",
       " u'preferable': 6633,\n",
       " u'roughshod': 7378,\n",
       " u'dignified': 2381,\n",
       " u'uncinematic': 9178,\n",
       " u'beauty': 788,\n",
       " u'pimps': 6416,\n",
       " u'modest': 5598,\n",
       " u'destined': 2314,\n",
       " u'types': 9143,\n",
       " u'effective': 2744,\n",
       " u'wins': 9732,\n",
       " u'attracts': 618,\n",
       " u'fleetingly': 3383,\n",
       " u'subplots': 8446,\n",
       " u'baggage': 697,\n",
       " u'keeps': 4812,\n",
       " u'nonsensical': 5897,\n",
       " u'wing': 9727,\n",
       " u'backdrop': 681,\n",
       " u'blind': 946,\n",
       " u'misdemeanor': 5555,\n",
       " u'facial': 3142,\n",
       " u'bling': 948,\n",
       " u'rewarded': 7266,\n",
       " u'wrought': 9835,\n",
       " u'welcomes': 9643,\n",
       " u'admirably': 199,\n",
       " u'conned': 1791,\n",
       " u'wickedly': 9690,\n",
       " u'fit': 3341,\n",
       " u'bringing': 1112,\n",
       " u'fix': 3345,\n",
       " u'striking': 8378,\n",
       " u'survivors': 8565,\n",
       " u'accentuating': 124,\n",
       " u'hidden': 4076,\n",
       " u'admirable': 198,\n",
       " u'easier': 2708,\n",
       " u'fil': 3292,\n",
       " u'perkiness': 6342,\n",
       " u'undercut': 9199,\n",
       " u'incongruous': 4407,\n",
       " u'grievous': 3832,\n",
       " u'sinuously': 7884,\n",
       " u'vainglorious': 9388,\n",
       " u'zoning': 9897,\n",
       " u'effects': 2746,\n",
       " u'eisenhower': 2759,\n",
       " u'sleaziness': 7945,\n",
       " u'represents': 7165,\n",
       " u'clobbering': 1581,\n",
       " u'debut': 2159,\n",
       " u'timeout': 8885,\n",
       " u'addicted': 185,\n",
       " u'volcano': 9518,\n",
       " u'preceded': 6617,\n",
       " u'knockout': 4862,\n",
       " u'series': 7681,\n",
       " u'spider': 8160,\n",
       " u'yiddish': 9860,\n",
       " u'laboratory': 4889,\n",
       " u'whir': 9676,\n",
       " u'message': 5480,\n",
       " u'whip': 9674,\n",
       " u'misfortune': 5560,\n",
       " u'workaday': 9792,\n",
       " u'mason': 5363,\n",
       " u're': 6968,\n",
       " u'smart': 7992,\n",
       " u'foundation': 3490,\n",
       " u'abbott': 90,\n",
       " u'assured': 584,\n",
       " u'given': 3705,\n",
       " u'expressiveness': 3101,\n",
       " u'necessarily': 5812,\n",
       " u'encountering': 2836,\n",
       " u'nice': 5855,\n",
       " u'tumbleweeds': 9100,\n",
       " u'silbersteins': 7848,\n",
       " u'enormous': 2885,\n",
       " u'bates': 762,\n",
       " u'sickeningly': 7831,\n",
       " u'dramatically': 2598,\n",
       " u'musicians': 5737,\n",
       " u'speedy': 8152,\n",
       " u'tempting': 8735,\n",
       " u'1970s': 32,\n",
       " u'purpose': 6834,\n",
       " u'wasp': 9588,\n",
       " u'subtlety': 8462,\n",
       " u'channels': 1396,\n",
       " u'wash': 9586,\n",
       " u'seinfeld': 7629,\n",
       " u'clamorous': 1532,\n",
       " u'clarity': 1537,\n",
       " u'170': 18,\n",
       " u'seizures': 7631,\n",
       " u'basketball': 759,\n",
       " u'service': 7691,\n",
       " u'similarly': 7856,\n",
       " u'needed': 5816,\n",
       " u'theatrically': 8788,\n",
       " u'master': 5369,\n",
       " u'miller': 5526,\n",
       " u'legs': 5014,\n",
       " u'bitter': 917,\n",
       " u'genesis': 3663,\n",
       " u'listen': 5118,\n",
       " u'danish': 2104,\n",
       " u'canned': 1262,\n",
       " u'predictably': 6630,\n",
       " u'wisdom': 9735,\n",
       " u'predictable': 6629,\n",
       " u'crawl': 1961,\n",
       " u'positively': 6573,\n",
       " u'subjugate': 8442,\n",
       " u'trek': 9037,\n",
       " u'tree': 9035,\n",
       " u'likely': 5086,\n",
       " u'project': 6742,\n",
       " u'endure': 2854,\n",
       " u'feeling': 3244,\n",
       " u'seduced': 7611,\n",
       " u'acclaim': 133,\n",
       " u'willingness': 9713,\n",
       " u'runner': 7408,\n",
       " u'boston': 1036,\n",
       " u'spent': 8157,\n",
       " u'brawny': 1075,\n",
       " u'corny': 1891,\n",
       " u'alive': 317,\n",
       " u'dozen': 2581,\n",
       " u'wholesome': 9684,\n",
       " u'person': 6350,\n",
       " u'soaked': 8032,\n",
       " u'absorbed': 109,\n",
       " u'amusing': 390,\n",
       " u'season': 7595,\n",
       " u'pixilated': 6437,\n",
       " u'reverberates': 7254,\n",
       " u'shall': 7734,\n",
       " u'object': 5950,\n",
       " u'diminishing': 2391,\n",
       " u'cinematic': 1516,\n",
       " u'mouth': 5683,\n",
       " u'letter': 5039,\n",
       " u'retaining': 7226,\n",
       " u'thriller': 8847,\n",
       " u'morality': 5643,\n",
       " u'expound': 3094,\n",
       " u'singer': 7874,\n",
       " u'chemistry': 1450,\n",
       " u'episode': 2921,\n",
       " u'cops': 1883,\n",
       " u'camp': 1253,\n",
       " u'tech': 8704,\n",
       " u'detriment': 2331,\n",
       " u'scream': 7564,\n",
       " u'came': 1248,\n",
       " u'marvel': 5354,\n",
       " u'saying': 7494,\n",
       " u'prim': 6677,\n",
       " u'meetings': 5433,\n",
       " u'nominated': 5883,\n",
       " u'asia': 559,\n",
       " u'participate': 6219,\n",
       " u'tempted': 8734,\n",
       " u'fixating': 3347,\n",
       " u'lessons': 5035,\n",
       " u'orleans': 6069,\n",
       " u'touches': 8960,\n",
       " u'busy': 1210,\n",
       " u'louise': 5194,\n",
       " u'quaint': 6856,\n",
       " u'appreciated': 486,\n",
       " u'theme': 8792,\n",
       " u'assaultive': 574,\n",
       " u'touched': 8959,\n",
       " u'rich': 7280,\n",
       " u'heartily': 4027,\n",
       " u'telegrams': 8722,\n",
       " u'rice': 7279,\n",
       " u'godzilla': 3736,\n",
       " u'culkin': 2036,\n",
       " u'terrors': 8764,\n",
       " u'foremost': 3455,\n",
       " u'savoca': 7489,\n",
       " u'clumsiness': 1607,\n",
       " u'kittenish': 4855,\n",
       " u'altogether': 347,\n",
       " u'unfortunately': 9261,\n",
       " u'droning': 2634,\n",
       " u'lurches': 5234,\n",
       " u'consumerist': 1826,\n",
       " u'nicely': 5856,\n",
       " u'patch': 6252,\n",
       " u'greene': 3822,\n",
       " u'eyelids': 3129,\n",
       " u'openly': 6028,\n",
       " u'stunningly': 8416,\n",
       " u'release': 7097,\n",
       " u'respond': 7204,\n",
       " u'traverse': 9026,\n",
       " u'disaster': 2422,\n",
       " u'unfussily': 9265,\n",
       " u'sensitivity': 7656,\n",
       " u'niche': 5858,\n",
       " u'unexpectedly': 9247,\n",
       " u'naturalness': 5795,\n",
       " u'result': 7217,\n",
       " u'fail': 3149,\n",
       " u'best': 862,\n",
       " u'playfulness': 6463,\n",
       " u'ambitions': 359,\n",
       " u'lots': 5190,\n",
       " u'ringu': 7300,\n",
       " u'rings': 7299,\n",
       " u'score': 7548,\n",
       " u'scorn': 7552,\n",
       " u'skimpy': 7922,\n",
       " u'claws': 1552,\n",
       " u'screwball': 7576,\n",
       " u'never': 5845,\n",
       " u'parallels': 6198,\n",
       " u'nature': 5796,\n",
       " u'stepmom': 8293,\n",
       " u'twinkling': 9131,\n",
       " u'tashlin': 8677,\n",
       " u'extent': 3108,\n",
       " u'megaplexes': 5437,\n",
       " u'angling': 417,\n",
       " u'roller': 7340,\n",
       " u'pity': 6434,\n",
       " u'dysfunctionally': 2693,\n",
       " u'accident': 132,\n",
       " u'trickster': 9050,\n",
       " u'sacrificing': 7431,\n",
       " u'country': 1918,\n",
       " u'adventures': 225,\n",
       " u'planned': 6449,\n",
       " u'logic': 5153,\n",
       " u'installments': 4524,\n",
       " u'argue': 513,\n",
       " u'adapted': 182,\n",
       " u'asked': 564,\n",
       " u'rehash': 7080,\n",
       " u'vain': 9387,\n",
       " u'dorm': 2554,\n",
       " u'humming': 4226,\n",
       " u'101': 3,\n",
       " u'eckstraordinarily': 2719,\n",
       " u'bothers': 1041,\n",
       " u'much': 5702,\n",
       " u'stadium': 8227,\n",
       " u'undistinguished': 9228,\n",
       " u'jackass': 4663,\n",
       " u'proficiently': 6730,\n",
       " u'incompetent': 4405,\n",
       " u'dots': 2558,\n",
       " u'dry': 2647,\n",
       " u'life': 5067,\n",
       " u'harangues': 3960,\n",
       " u'filmmaker': 3304,\n",
       " u'relevance': 7102,\n",
       " u'pandering': 6181,\n",
       " u'child': 1461,\n",
       " u'worked': 9793,\n",
       " u'agitprop': 277,\n",
       " u'spin': 8165,\n",
       " u'skilfully': 7917,\n",
       " u'chill': 1466,\n",
       " u'commerce': 1687,\n",
       " u'gritty': 3843,\n",
       " u'cheapened': 1429,\n",
       " u'castro': 1329,\n",
       " u'employ': 2819,\n",
       " u'pushiness': 6843,\n",
       " u'dictums': 2364,\n",
       " u'remembering': 7125,\n",
       " u'majid': 5278,\n",
       " u'played': 6459,\n",
       " u'verges': 9431,\n",
       " u'hatfield': 3990,\n",
       " u'player': 6460,\n",
       " u'elicit': 2780,\n",
       " u'madonna': 5257,\n",
       " u'specter': 8150,\n",
       " u'damaged': 2086,\n",
       " u'credit': 1980,\n",
       " u'jolting': 4738,\n",
       " u'things': 8810,\n",
       " u'cumulative': 2044,\n",
       " u'doofus': 2548,\n",
       " u'any': 457,\n",
       " u'democracies': 2243,\n",
       " u'spews': 8158,\n",
       " u'haphazard': 3951,\n",
       " u'split': 8187,\n",
       " u'european': 2971,\n",
       " u'fairly': 3154,\n",
       " u'effortlessly': 2750,\n",
       " u'inadvertently': 4386,\n",
       " u'toback': 8910,\n",
       " u'preachy': 6615,\n",
       " u'sissako': 7888,\n",
       " u'featherweight': 3237,\n",
       " u'wimmer': 9717,\n",
       " u'lucas': 5213,\n",
       " u'academic': 120,\n",
       " u'undercurrent': 9198,\n",
       " u'echoes': 2717,\n",
       " u'corporate': 1892,\n",
       " u'eroticism': 2938,\n",
       " u'rancorous': 6924,\n",
       " u'benshan': 850,\n",
       " u'absurdities': 115,\n",
       " u'appropriately': 492,\n",
       " u'forsaken': 3479,\n",
       " u'disguise': 2443,\n",
       " u'stultifyingly': 8411,\n",
       " u'plight': 6484,\n",
       " u'sprecher': 8206,\n",
       " u'previous': 6674,\n",
       " u'hai': 3910,\n",
       " u'spectacles': 8145,\n",
       " u'hal': 3916,\n",
       " u'ham': 3924,\n",
       " u'ease': 2707,\n",
       " u'asiaphiles': 561,\n",
       " u'had': 3908,\n",
       " u'ideal': 4271,\n",
       " u'macdonald': 5247,\n",
       " u'easy': 2711,\n",
       " u'prison': 6694,\n",
       " u'has': 3985,\n",
       " u'hat': 3987,\n",
       " u'drably': 2586,\n",
       " u'unblinkingly': 9169,\n",
       " u'survival': 8561,\n",
       " u'wewannour': 9657,\n",
       " u'possible': 6578,\n",
       " u'unequivocally': 9241,\n",
       " u'possibly': 6579,\n",
       " u'otherworldly': 6077,\n",
       " u'unlikely': 9299,\n",
       " u'imposed': 4361,\n",
       " u'shadow': 7720,\n",
       " u'unique': 9285,\n",
       " u'desire': 2303,\n",
       " u'brought': 1143,\n",
       " u'alice': 312,\n",
       " u'remind': 7127,\n",
       " u'disconnects': 2429,\n",
       " u'steps': 8295,\n",
       " u'prologue': 6747,\n",
       " u'continuation': 1840,\n",
       " u'battlefield': 770,\n",
       " u'right': 7292,\n",
       " u'old': 6005,\n",
       " u'creek': 1983,\n",
       " u'crowd': 2015,\n",
       " u'people': 6314,\n",
       " u'macabre': 5245,\n",
       " u'creed': 1982,\n",
       " u'insistence': 4513,\n",
       " u'poets': 6510,\n",
       " u'creep': 1984,\n",
       " u'enemies': 2856,\n",
       " u'sociology': 8044,\n",
       " u'for': 3446,\n",
       " u'bottom': 1043,\n",
       " u'creative': 1974,\n",
       " u'witty': 9759,\n",
       " u'flopping': 3403,\n",
       " u'exposition': 3093,\n",
       " u'oliviera': 6010,\n",
       " u'foo': 3434,\n",
       " u'cultist': 2038,\n",
       " u'shakes': 7728,\n",
       " u'substitutes': 8454,\n",
       " u'shifting': 7762,\n",
       " u'starring': 8258,\n",
       " u'losing': 5185,\n",
       " u'memorable': 5452,\n",
       " u'transcends': 9002,\n",
       " u'filipino': 3293,\n",
       " u'dollars': 2530,\n",
       " u'bicentennial': 884,\n",
       " u'despair': 2306,\n",
       " u'repellent': 7152,\n",
       " u'lacked': 4896,\n",
       " u'slightly': 7961,\n",
       " u'raised': 6911,\n",
       " u'statements': 8274,\n",
       " u'marshall': 5348,\n",
       " u'respectably': 7201,\n",
       " u'son': 8074,\n",
       " u'respectable': 7200,\n",
       " u'beings': 823,\n",
       " u'raises': 6912,\n",
       " u'wrap': 9817,\n",
       " u'shoots': 7788,\n",
       " u'reducing': 7043,\n",
       " u'fabric': 3134,\n",
       " u'waits': 9538,\n",
       " u'support': 8530,\n",
       " u'constantly': 1819,\n",
       " u'raped': 6936,\n",
       " u'humorous': 4229,\n",
       " u'jane': 4679,\n",
       " u'icon': 4265,\n",
       " u'trappings': 9020,\n",
       " u'happy': 3959,\n",
       " u'underestimated': 9204,\n",
       " u'insurrection': 4546,\n",
       " u'offer': 5994,\n",
       " u'fascination': 3203,\n",
       " u'forming': 3473,\n",
       " u'melanie': 5442,\n",
       " u'unshapely': 9327,\n",
       " u'silliness': 7852,\n",
       " u'inside': 4502,\n",
       " u'devices': 2346,\n",
       " u'epps': 2925,\n",
       " u'complications': 1729,\n",
       " u'lays': 4969,\n",
       " u'rerun': 7177,\n",
       " u'kaige': 4791,\n",
       " u'juvenile': 4786,\n",
       " u'proud': 6776,\n",
       " u'disgrace': 2442,\n",
       " u'textbook': 8773,\n",
       " u'proves': 6779,\n",
       " u'exist': 3047,\n",
       " u'tooth': 8934,\n",
       " u'dealer': 2143,\n",
       " u'triangles': 9046,\n",
       " u'heartbreakingly': 4022,\n",
       " u'eventual': 2984,\n",
       " u'floor': 3401,\n",
       " u'actor': 167,\n",
       " u'role': 7337,\n",
       " u'ambitious': 360,\n",
       " u'roll': 7339,\n",
       " u'messing': 5484,\n",
       " u'devos': 2349,\n",
       " u'scale': 7497,\n",
       " u'palma': 6175,\n",
       " u'rolling': 7344,\n",
       " u'aragorn': 494,\n",
       " u'99': 87,\n",
       " u'rockumentary': 7331,\n",
       " u'unentertaining': 9240,\n",
       " u'time': 8881,\n",
       " u'push': 6840,\n",
       " u'someplace': 8067,\n",
       " u'adult': 218,\n",
       " u'breadth': 1078,\n",
       " u'chain': 1380,\n",
       " u'crocodile': 2008,\n",
       " u'theaters': 8784,\n",
       " u'jarring': 4689,\n",
       " u'93': 84,\n",
       " u'millisecond': 5529,\n",
       " u'ballet': 709,\n",
       " u'uneven': 9243,\n",
       " u'ver': 9424,\n",
       " u'rousing': 7382,\n",
       " u'obsessively': 5967,\n",
       " u'methodically': 5491,\n",
       " u'platitudes': 6454,\n",
       " u'circumstances': 1525,\n",
       " u'veterans': 9443,\n",
       " u'verbally': 9427,\n",
       " u'tenacious': 8738,\n",
       " u'dragonfly': 2590,\n",
       " u'lrb': 5211,\n",
       " u'jerk': 4705,\n",
       " u'cheap': 1428,\n",
       " u'olympus': 6013,\n",
       " u'choice': 1479,\n",
       " u'rapturous': 6944,\n",
       " u'stays': 8280,\n",
       " u'exact': 3008,\n",
       " u'minute': 5544,\n",
       " u'wondrously': 9779,\n",
       " u'tear': 8700,\n",
       " u'skewed': 7913,\n",
       " u'leave': 4997,\n",
       " u'engrossing': 2872,\n",
       " u'team': 8698,\n",
       " u'loads': 5141,\n",
       " u'prevent': 6672,\n",
       " u'spiritual': 8174,\n",
       " u'findings': 3315,\n",
       " u'insignificant': 4509,\n",
       " u'collage': 1639,\n",
       " u'hindered': 4098,\n",
       " u'sign': 7840,\n",
       " u'erotic': 2937,\n",
       " u'comedically': 1667,\n",
       " u'adorns': 215,\n",
       " u'jeopardy': 4703,\n",
       " u'requiem': 7170,\n",
       " u'melt': 5446,\n",
       " u'current': 2054,\n",
       " u'300': 55,\n",
       " u'freaks': 3514,\n",
       " u'deadening': 2139,\n",
       " u'exploitative': 3081,\n",
       " u'falling': 3164,\n",
       " u'crashing': 1957,\n",
       " u'celebrates': 1355,\n",
       " u'unintentionally': 9283,\n",
       " u'creepiest': 1985,\n",
       " u'grandparents': 3798,\n",
       " u'westbrook': 9655,\n",
       " u'ratliff': 6953,\n",
       " u'exceptions': 3024,\n",
       " u'address': 188,\n",
       " u'alone': 331,\n",
       " u'along': 332,\n",
       " u'anchoring': 403,\n",
       " u'molestation': 5604,\n",
       " u'redemption': 7037,\n",
       " u'brilliant': 1106,\n",
       " u'bv': 1220,\n",
       " u'accomplished': 137,\n",
       " u'ineffective': 4443,\n",
       " u'myers': 5750,\n",
       " u'studies': 8404,\n",
       " u'bearable': 778,\n",
       " u'carpets': 1309,\n",
       " u'inexpressive': 4454,\n",
       " u'love': 5196,\n",
       " u'griffiths': 3833,\n",
       " u'schlocky': 7525,\n",
       " u'logical': 5154,\n",
       " u'marvelous': 5356,\n",
       " u'fake': 3159,\n",
       " u'flagging': 3353,\n",
       " u'red': 7034,\n",
       " u'crammed': 1950,\n",
       " u'working': 9795,\n",
       " u'positive': 6572,\n",
       " u'angry': 418,\n",
       " u'sisterly': 7891,\n",
       " u'cherished': 1452,\n",
       " u'wood': 9781,\n",
       " u'opposed': 6043,\n",
       " u'wondering': 9776,\n",
       " u'films': 3307,\n",
       " u'scope': 7547,\n",
       " u'loving': 5203,\n",
       " u'afford': 246,\n",
       " u'apparent': 474,\n",
       " u'doppelganger': 2553,\n",
       " u'tundra': 9103,\n",
       " u'visual': 9500,\n",
       " u'ignorant': 4288,\n",
       " u'claud': 1548,\n",
       " u'epitaph': 2924,\n",
       " u'involve': 4614,\n",
       " u'anything': 461,\n",
       " u'pretend': 6662,\n",
       " u'believer': 832,\n",
       " u'slaloming': 7934,\n",
       " u'zhao': 9889,\n",
       " u'printing': 6690,\n",
       " u'values': 9396,\n",
       " u'believed': 831,\n",
       " u'detached': 2320,\n",
       " u'gunfire': 3894,\n",
       " u'awesome': 667,\n",
       " u'weasels': 9623,\n",
       " u'irwins': 4641,\n",
       " u'admirer': 202,\n",
       " u'winter': 9733,\n",
       " u'septic': 7670,\n",
       " u'deserves': 2297,\n",
       " u'savor': 7490,\n",
       " u'vainly': 9389,\n",
       " u'grosses': 3848,\n",
       " u'elephant': 2775,\n",
       " u'unforgettable': 9258,\n",
       " u'snaps': 8021,\n",
       " u'explores': 3088,\n",
       " u'meddles': 5423,\n",
       " u'rigors': 7295,\n",
       " u'convincingly': 1872,\n",
       " u'fueled': 3567,\n",
       " u'explored': 3087,\n",
       " u'date': 2119,\n",
       " u'such': 8477,\n",
       " u'suck': 8478,\n",
       " u'revealed': 7246,\n",
       " u'shockingly': 7778,\n",
       " u'sy': 8615,\n",
       " u'surfing': 8541,\n",
       " u'natural': 5792,\n",
       " u'conscious': 1799,\n",
       " u'biographical': 903,\n",
       " u'si': 7828,\n",
       " u'so': 8031,\n",
       " u'definitions': 2199,\n",
       " u'misplaced': 5564,\n",
       " u'pulled': 6810,\n",
       " u'drunken': 2646,\n",
       " u'innocuous': 4488,\n",
       " u'reaffirms': 6980,\n",
       " u'kong': 4871,\n",
       " u'professors': 6727,\n",
       " u'course': 1926,\n",
       " u'episodes': 2922,\n",
       " u'tendency': 8740,\n",
       " u'thoughtfulness': 8834,\n",
       " u'derive': 2285,\n",
       " u'yawning': 9850,\n",
       " u'jia': 4715,\n",
       " u'milked': 5521,\n",
       " u'toro': 8947,\n",
       " u'torn': 8945,\n",
       " u'tori': 8942,\n",
       " u'amazing': 355,\n",
       " u'cautionary': 1347,\n",
       " u'attraction': 615,\n",
       " u'creations': 1973,\n",
       " u'dwarfs': 2684,\n",
       " u'suspension': 8575,\n",
       " u'troubled': 9076,\n",
       " u'decades': 2161,\n",
       " u'deviant': 2344,\n",
       " u'instantly': 4527,\n",
       " u'downsizing': 2576,\n",
       " u'conveying': 1863,\n",
       " u'retooled': 7234,\n",
       " u'reveal': 7245,\n",
       " u'smarter': 7993,\n",
       " u'nation': 5787,\n",
       " u'records': 7024,\n",
       " u'arriving': 531,\n",
       " u'scorsese': 7554,\n",
       " u'twilight': 9128,\n",
       " u'matched': 5378,\n",
       " u'spiritualism': 8175,\n",
       " u'brody': 1128,\n",
       " u'fabian': 3132,\n",
       " u'cadence': 1232,\n",
       " u'bowling': 1053,\n",
       " u'quarter': 6862,\n",
       " u'dramas': 2596,\n",
       " u'square': 8216,\n",
       " u'retrieve': 7238,\n",
       " u'bursting': 1202,\n",
       " u'breakthrough': 1083,\n",
       " u'frames': 3501,\n",
       " u'entering': 2893,\n",
       " u'sexually': 7715,\n",
       " u'giddy': 3689,\n",
       " u'denouement': 2257,\n",
       " u'canvas': 1268,\n",
       " u'imogen': 4334,\n",
       " u'contained': 1829,\n",
       " u'martinet': 5353,\n",
       " u'internet': 4577,\n",
       " u'suggesting': 8495,\n",
       " u'formula': 3475,\n",
       " u'chemically': 1449,\n",
       " u'siege': 7836,\n",
       " u'million': 5527,\n",
       " u'possibility': 6577,\n",
       " u'quite': 6886,\n",
       " u'prostituted': 6769,\n",
       " u'complicated': 1728,\n",
       " u'intensely': 4558,\n",
       " u'unnamed': 9303,\n",
       " u'liberally': 5054,\n",
       " u'disguised': 2444,\n",
       " u'locations': 5148,\n",
       " u'artistes': 545,\n",
       " u'wrong': 9833,\n",
       " u'wanderers': 9557,\n",
       " u'overachieving': 6103,\n",
       " u'massive': 5367,\n",
       " u'jumbled': 4774,\n",
       " u'emotion': 2809,\n",
       " u'saving': 7488,\n",
       " u'reveals': 7248,\n",
       " u'clause': 1549,\n",
       " u'potter': 6592,\n",
       " u'one': 6017,\n",
       " u'punishable': 6823,\n",
       " u'spanish': 8122,\n",
       " u'open': 6026,\n",
       " u'plotless': 6490,\n",
       " u'city': 1528,\n",
       " u'bite': 912,\n",
       " u'structured': 8393,\n",
       " u'gyllenhaal': 3902,\n",
       " u'shiver': 7773,\n",
       " u'stifled': 8309,\n",
       " u'stuffed': 8409,\n",
       " u'realization': 6988,\n",
       " u'bits': 915,\n",
       " u'unreligious': 9319,\n",
       " u'lingering': 5109,\n",
       " u'slasher': 7942,\n",
       " u'shawn': 7754,\n",
       " u'devito': 2347,\n",
       " u'antic': 449,\n",
       " u'photographic': 6392,\n",
       " u'juiceless': 4767,\n",
       " u'anchored': 402,\n",
       " u'translate': 9010,\n",
       " u'depressed': 2275,\n",
       " u'favors': 3226,\n",
       " u'anteing': 444,\n",
       " u'future': 3593,\n",
       " u'glossy': 3725,\n",
       " u'harmoniously': 3973,\n",
       " u'sophie': 8083,\n",
       " u'damned': 2089,\n",
       " u'companionable': 1703,\n",
       " u'prospect': 6767,\n",
       " u'addressing': 190,\n",
       " u'illness': 4297,\n",
       " u'stylings': 8427,\n",
       " u'fragmented': 3497,\n",
       " u'sumptuous': 8513,\n",
       " u'turned': 9114,\n",
       " u'argument': 516,\n",
       " u'sad': 7432,\n",
       " u'say': 7493,\n",
       " u'buried': 1191,\n",
       " u'lurking': 5237,\n",
       " u'allen': 322,\n",
       " u'bewilderingly': 877,\n",
       " u'saw': 7492,\n",
       " u'warriors': 9582,\n",
       " u'aside': 562,\n",
       " u'note': 5915,\n",
       " u'rumination': 7404,\n",
       " u'take': 8647,\n",
       " u'destroy': 2315,\n",
       " u'hedonistic': 4036,\n",
       " u'blinding': 947,\n",
       " u'surfaces': 8538,\n",
       " u'ironically': 4626,\n",
       " u'lint': 5111,\n",
       " u'opposite': 6044,\n",
       " u'knew': 4861,\n",
       " u'suspects': 8570,\n",
       " u'smokers': 8003,\n",
       " u'printed': 6689,\n",
       " u'remarks': 7122,\n",
       " u'knee': 4859,\n",
       " u'pages': 6154,\n",
       " u'lauper': 4962,\n",
       " u'average': 648,\n",
       " u'drive': 2627,\n",
       " u'roundelay': 7381,\n",
       " u'managing': 5304,\n",
       " u'wind': 9721,\n",
       " u'salt': 7447,\n",
       " u'laws': 4966,\n",
       " u'walking': 9546,\n",
       " u'surplus': 8543,\n",
       " u'anomie': 437,\n",
       " u'imagines': 4315,\n",
       " u'merit': 5472,\n",
       " u'opportunism': 6039,\n",
       " u'bright': 1103,\n",
       " u'inconsistent': 4410,\n",
       " u'aggressive': 272,\n",
       " u'slot': 7977,\n",
       " u'slow': 7979,\n",
       " u'punchy': 6820,\n",
       " u'gourd': 3777,\n",
       " u'cloak': 1580,\n",
       " u'short': 7793,\n",
       " u'aimlessly': 290,\n",
       " u'liberation': 5056,\n",
       " u'tears': 8703,\n",
       " u'going': 3739,\n",
       " u'slob': 7970,\n",
       " u'outrage': 6091,\n",
       " u'graceless': 3786,\n",
       " u'guarded': 3872,\n",
       " u'grandiosity': 3795,\n",
       " u'cursing': 2057,\n",
       " u'simplistic': 7862,\n",
       " u'inuit': 4600,\n",
       " u'import': 4357,\n",
       " u'prime': 6681,\n",
       " u'undemanding': 9192,\n",
       " u'prima': 6678,\n",
       " u'keenly': 4809,\n",
       " u'settings': 7699,\n",
       " u'hinges': 4100,\n",
       " u'worried': 9805,\n",
       " u'roger': 7334,\n",
       " u'worries': 9806,\n",
       " u'marred': 5345,\n",
       " u'where': 9664,\n",
       " u'xmas': 9840,\n",
       " u'vision': 9495,\n",
       " u'artistically': 547,\n",
       " u'fable': 3133,\n",
       " u'gangster': 3619,\n",
       " u'impressions': 4368,\n",
       " u'lilia': 5090,\n",
       " u'intoxicating': 4591,\n",
       " u'harvey': 3984,\n",
       " u'teeny': 8718,\n",
       " u'refreshed': 7064,\n",
       " u'affecting': 238,\n",
       " u'enjoys': 2883,\n",
       " u'screed': 7567,\n",
       " u'panache': 6179,\n",
       " u'mature': 5389,\n",
       " u'vertical': 9439,\n",
       " u'farts': 3200,\n",
       " u'screen': 7568,\n",
       " u'supermarket': 8526,\n",
       " u'inseparable': 4501,\n",
       " u'icily': 4263,\n",
       " u'jovial': 4752,\n",
       " u'spare': 8124,\n",
       " u'moviemaking': 5695,\n",
       " u'spark': 8125,\n",
       " u'deliciously': 2219,\n",
       " u'puerile': 6808,\n",
       " u'farcical': 3195,\n",
       " u'many': 5324,\n",
       " u'jokers': 4730,\n",
       " u'sip': 7885,\n",
       " u'madcap': 5252,\n",
       " u'workplace': 9797,\n",
       " u'kahlo': 4790,\n",
       " u'concentrates': 1748,\n",
       " u'expression': 3098,\n",
       " u'mann': 5315,\n",
       " u'riddle': 7287,\n",
       " u'fi': 3271,\n",
       " u'compels': 1712,\n",
       " u'genial': 3664,\n",
       " u'gaiety': 3600,\n",
       " u'homosexuality': 4151,\n",
       " u'anti': 448,\n",
       " u'3000': 56,\n",
       " u'mapquest': 5325,\n",
       " u'considers': 1810,\n",
       " u'boat': 981,\n",
       " u'caring': 1300,\n",
       " u'combines': 1663,\n",
       " u'mounting': 5677,\n",
       " u'vacation': 9384,\n",
       " u'breath': 1084,\n",
       " u'combined': 1662,\n",
       " u'motives': 5669,\n",
       " u'reflective': 7061,\n",
       " u'hilarity': 4094,\n",
       " u'wants': 9566,\n",
       " u'lanes': 4923,\n",
       " u'rekindles': 7087,\n",
       " u'chan': 1388,\n",
       " u'thousand': 8836,\n",
       " u'formed': 3471,\n",
       " u'tightened': 8877,\n",
       " u'abject': 97,\n",
       " u'extant': 3104,\n",
       " u'wilco': 9699,\n",
       " u'former': 3472,\n",
       " u'standard': 8245,\n",
       " u'queasy': 6864,\n",
       " u'guffaw': 3878,\n",
       " u'kazan': 4805,\n",
       " u'isabelle': 4643,\n",
       " u'pretence': 6661,\n",
       " u'engineering': 2867,\n",
       " u'revelatory': 7252,\n",
       " ...}"
      ]
     },
     "execution_count": 14,
     "metadata": {},
     "output_type": "execute_result"
    }
   ],
   "source": [
    "tfidv.vocabulary_"
   ]
  },
  {
   "cell_type": "code",
   "execution_count": 52,
   "metadata": {
    "collapsed": false
   },
   "outputs": [],
   "source": [
    "tfidv_trans = tfidv.transform(dfx)"
   ]
  },
  {
   "cell_type": "code",
   "execution_count": 17,
   "metadata": {
    "collapsed": false
   },
   "outputs": [
    {
     "data": {
      "text/plain": [
       "array([ 0.56053582,  0.44600286,  0.69776862, ...,  0.44127075,\n",
       "        0.48108947,  1.        ])"
      ]
     },
     "execution_count": 17,
     "metadata": {},
     "output_type": "execute_result"
    }
   ],
   "source": [
    "tfidv_trans.data"
   ]
  },
  {
   "cell_type": "code",
   "execution_count": 53,
   "metadata": {
    "collapsed": false
   },
   "outputs": [],
   "source": [
    "x_train_tf, x_test_tf, y_train_tf, y_test_tf = train_test_split(tfidv_trans, dfy, train_size = 10000, test_size = 5000)"
   ]
  },
  {
   "cell_type": "code",
   "execution_count": null,
   "metadata": {
    "collapsed": false
   },
   "outputs": [],
   "source": []
  },
  {
   "cell_type": "code",
   "execution_count": null,
   "metadata": {
    "collapsed": false
   },
   "outputs": [],
   "source": []
  },
  {
   "cell_type": "markdown",
   "metadata": {},
   "source": [
    "### 3.Model"
   ]
  },
  {
   "cell_type": "markdown",
   "metadata": {
    "collapsed": true
   },
   "source": [
    "### 3-1.SVC ( with countvectorizer)"
   ]
  },
  {
   "cell_type": "code",
   "execution_count": 55,
   "metadata": {
    "collapsed": false
   },
   "outputs": [],
   "source": [
    "model1= SVC(kernel='linear', probability=True).fit(x_train_cv, y_train_cv)"
   ]
  },
  {
   "cell_type": "markdown",
   "metadata": {},
   "source": [
    " #### svc kernel 다른 모델은 precision 값이 낮아 사용할 수 없다."
   ]
  },
  {
   "cell_type": "code",
   "execution_count": 61,
   "metadata": {
    "collapsed": false
   },
   "outputs": [],
   "source": [
    "#model2= SVC(kernel='rbf').fit(x_train_cv, y_train_cv)"
   ]
  },
  {
   "cell_type": "markdown",
   "metadata": {},
   "source": [
    "### 3-1.Predict\n"
   ]
  },
  {
   "cell_type": "code",
   "execution_count": 58,
   "metadata": {
    "collapsed": false
   },
   "outputs": [
    {
     "name": "stdout",
     "output_type": "stream",
     "text": [
      "svc : linear Model\n",
      "             precision    recall  f1-score   support\n",
      "\n",
      "          0       0.36      0.26      0.30       438\n",
      "          1       0.42      0.29      0.34      1724\n",
      "          2       0.64      0.81      0.72      5105\n",
      "          3       0.47      0.36      0.41      2129\n",
      "          4       0.43      0.27      0.33       604\n",
      "\n",
      "avg / total       0.54      0.57      0.55     10000\n",
      "\n",
      "accuracy :0.5707\n",
      "**************************************************\n"
     ]
    }
   ],
   "source": [
    "# SVM Report\n",
    "print(\"svc : linear Model\")\n",
    "y_pred = model1.predict(x_test_cv)\n",
    "print(classification_report(y_test_cv, y_pred))\n",
    "print('accuracy :'+ str(accuracy_score(y_test_cv, y_pred)))\n",
    "print('*' * 50)"
   ]
  },
  {
   "cell_type": "code",
   "execution_count": 62,
   "metadata": {
    "collapsed": false
   },
   "outputs": [
    {
     "name": "stdout",
     "output_type": "stream",
     "text": [
      "svc : rbf Model\n",
      "             precision    recall  f1-score   support\n",
      "\n",
      "          0       0.00      0.00      0.00       234\n",
      "          1       0.00      0.00      0.00       865\n",
      "          2       0.51      1.00      0.67      2545\n",
      "          3       0.00      0.00      0.00      1051\n",
      "          4       0.00      0.00      0.00       305\n",
      "\n",
      "avg / total       0.26      0.51      0.34      5000\n",
      "\n",
      "**************************************************\n"
     ]
    }
   ],
   "source": [
    "# SVM Report\n",
    "print(\"svc : rbf Model\")\n",
    "y_pred2 = model2.predict(x_test_cv)\n",
    "print(classification_report(y_test_cv, y_pred2))\n",
    "print('accuracy : ' + accuracy_score(y_test_cv, y_pred2))\n",
    "print('*' * 50)"
   ]
  },
  {
   "cell_type": "markdown",
   "metadata": {
    "collapsed": true
   },
   "source": [
    "### 3-2.SVC (with tf-idf)"
   ]
  },
  {
   "cell_type": "code",
   "execution_count": 67,
   "metadata": {
    "collapsed": true
   },
   "outputs": [],
   "source": [
    "model1_tf = SVC(kernel='linear', probability=True).fit(x_train_tf, y_train_tf)"
   ]
  },
  {
   "cell_type": "markdown",
   "metadata": {},
   "source": [
    "### 3-2.Predict"
   ]
  },
  {
   "cell_type": "code",
   "execution_count": 69,
   "metadata": {
    "collapsed": false
   },
   "outputs": [
    {
     "name": "stdout",
     "output_type": "stream",
     "text": [
      "svc : linear Model with tf-idf\n",
      "             precision    recall  f1-score   support\n",
      "\n",
      "          0       0.29      0.04      0.07       216\n",
      "          1       0.47      0.22      0.30       902\n",
      "          2       0.60      0.87      0.71      2584\n",
      "          3       0.47      0.35      0.40      1015\n",
      "          4       0.54      0.11      0.18       283\n",
      "\n",
      "avg / total       0.54      0.57      0.52      5000\n",
      "\n"
     ]
    }
   ],
   "source": [
    "# SVM Report\n",
    "print(\"svc : linear Model with tf-idf\")\n",
    "y_pred_tf = model1_tf.predict(x_test_tf)\n",
    "print(classification_report(y_test_tf, y_pred_tf))"
   ]
  },
  {
   "cell_type": "code",
   "execution_count": 71,
   "metadata": {
    "collapsed": false
   },
   "outputs": [
    {
     "name": "stdout",
     "output_type": "stream",
     "text": [
      "0.5696\n"
     ]
    }
   ],
   "source": [
    "print accuracy_score(y_test_tf, y_pred_tf)"
   ]
  },
  {
   "cell_type": "markdown",
   "metadata": {
    "collapsed": true
   },
   "source": [
    "### 4. SGDClassifier"
   ]
  },
  {
   "cell_type": "markdown",
   "metadata": {},
   "source": [
    "#### 4-1 SGD(with CounterVectorizer)"
   ]
  },
  {
   "cell_type": "code",
   "execution_count": 34,
   "metadata": {
    "collapsed": false
   },
   "outputs": [],
   "source": [
    "sgd = SGDClassifier(loss='log', n_iter=500, random_state=0).fit(x_train_cv, y_train_cv)"
   ]
  },
  {
   "cell_type": "code",
   "execution_count": 35,
   "metadata": {
    "collapsed": false,
    "scrolled": false
   },
   "outputs": [
    {
     "name": "stdout",
     "output_type": "stream",
     "text": [
      "             precision    recall  f1-score   support\n",
      "\n",
      "          0       0.52      0.17      0.25       245\n",
      "          1       0.45      0.25      0.32       812\n",
      "          2       0.62      0.89      0.73      2584\n",
      "          3       0.49      0.32      0.39      1059\n",
      "          4       0.45      0.14      0.21       300\n",
      "\n",
      "avg / total       0.55      0.58      0.54      5000\n",
      "\n"
     ]
    }
   ],
   "source": [
    "y_pred_cv = sgd.predict(x_test_cv)\n",
    "print(classification_report(y_test_cv, y_pred_cv))"
   ]
  },
  {
   "cell_type": "code",
   "execution_count": 39,
   "metadata": {
    "collapsed": true
   },
   "outputs": [],
   "source": [
    "sgd1 = SGDClassifier(loss='perceptron', n_iter=500, random_state=0).fit(x_train_cv, y_train_cv)"
   ]
  },
  {
   "cell_type": "code",
   "execution_count": 40,
   "metadata": {
    "collapsed": false
   },
   "outputs": [
    {
     "name": "stdout",
     "output_type": "stream",
     "text": [
      "             precision    recall  f1-score   support\n",
      "\n",
      "          0       0.35      0.26      0.30       245\n",
      "          1       0.38      0.25      0.30       812\n",
      "          2       0.64      0.82      0.72      2584\n",
      "          3       0.44      0.33      0.38      1059\n",
      "          4       0.33      0.20      0.25       300\n",
      "\n",
      "avg / total       0.52      0.56      0.53      5000\n",
      "\n"
     ]
    }
   ],
   "source": [
    "y_pred1 = sgd1.predict(x_test_cv)\n",
    "print(classification_report(y_test_cv, y_pred1))"
   ]
  },
  {
   "cell_type": "code",
   "execution_count": 42,
   "metadata": {
    "collapsed": false
   },
   "outputs": [],
   "source": [
    "sgd2 = SGDClassifier(loss='modified_huber', n_iter=1000, random_state=0).fit(x_train_cv, y_train_cv)"
   ]
  },
  {
   "cell_type": "code",
   "execution_count": 47,
   "metadata": {
    "collapsed": false
   },
   "outputs": [
    {
     "name": "stdout",
     "output_type": "stream",
     "text": [
      "             precision    recall  f1-score   support\n",
      "\n",
      "          0       0.35      0.26      0.30       245\n",
      "          1       0.38      0.25      0.30       812\n",
      "          2       0.64      0.82      0.72      2584\n",
      "          3       0.44      0.33      0.38      1059\n",
      "          4       0.33      0.20      0.25       300\n",
      "\n",
      "avg / total       0.52      0.56      0.53      5000\n",
      "\n"
     ]
    }
   ],
   "source": [
    "y_pred2 = sgd1.predict(x_test_cv)\n",
    "print(classification_report(y_test_cv, y_pred2))"
   ]
  },
  {
   "cell_type": "markdown",
   "metadata": {
    "collapsed": false
   },
   "source": [
    "#### 4-2 SGD(with Tf - Idf)"
   ]
  },
  {
   "cell_type": "code",
   "execution_count": 48,
   "metadata": {
    "collapsed": true
   },
   "outputs": [],
   "source": [
    "sgd_tf = SGDClassifier(loss='log', n_iter = 1000, random_state=0).fit(x_train_tf, y_train_tf)"
   ]
  },
  {
   "cell_type": "code",
   "execution_count": 49,
   "metadata": {
    "collapsed": false
   },
   "outputs": [
    {
     "name": "stdout",
     "output_type": "stream",
     "text": [
      "             precision    recall  f1-score   support\n",
      "\n",
      "          0       0.67      0.02      0.04       222\n",
      "          1       0.48      0.13      0.21       898\n",
      "          2       0.57      0.94      0.71      2569\n",
      "          3       0.44      0.22      0.29      1025\n",
      "          4       0.67      0.07      0.13       286\n",
      "\n",
      "avg / total       0.54      0.56      0.47      5000\n",
      "\n"
     ]
    }
   ],
   "source": [
    "y_pred2_tf = sgd_tf.predict(x_test_tf)\n",
    "print(classification_report(y_test_tf, y_pred2_tf))"
   ]
  },
  {
   "cell_type": "code",
   "execution_count": 50,
   "metadata": {
    "collapsed": false
   },
   "outputs": [
    {
     "name": "stdout",
     "output_type": "stream",
     "text": [
      "0.5556\n"
     ]
    }
   ],
   "source": [
    "print(accuracy_score(y_test_tf, y_pred2_tf))"
   ]
  },
  {
   "cell_type": "markdown",
   "metadata": {
    "collapsed": true
   },
   "source": [
    "### 5. Pipeline"
   ]
  },
  {
   "cell_type": "markdown",
   "metadata": {},
   "source": [
    "#### 5.1 CountVecotorizer Pipeline"
   ]
  },
  {
   "cell_type": "code",
   "execution_count": 24,
   "metadata": {
    "collapsed": false
   },
   "outputs": [],
   "source": [
    "clf_1 = Pipeline([\n",
    "        ('vect', CountVectorizer(tokenizer=tokenizer_list)),\n",
    "        (('clf', SVC(kernel='linear')))\n",
    "    ])"
   ]
  },
  {
   "cell_type": "code",
   "execution_count": 25,
   "metadata": {
    "collapsed": false
   },
   "outputs": [
    {
     "data": {
      "text/plain": [
       "Pipeline(steps=[('vect', CountVectorizer(analyzer=u'word', binary=False, decode_error=u'strict',\n",
       "        dtype=<type 'numpy.int64'>, encoding=u'utf-8', input=u'content',\n",
       "        lowercase=True, max_df=1.0, max_features=None, min_df=1,\n",
       "        ngram_range=(1, 1), preprocessor=None, stop_words=None,\n",
       "        st...,\n",
       "  max_iter=-1, probability=False, random_state=None, shrinking=True,\n",
       "  tol=0.001, verbose=False))])"
      ]
     },
     "execution_count": 25,
     "metadata": {},
     "output_type": "execute_result"
    }
   ],
   "source": [
    "clf_1.fit(x_train, y_train)"
   ]
  },
  {
   "cell_type": "code",
   "execution_count": 32,
   "metadata": {
    "collapsed": false
   },
   "outputs": [
    {
     "name": "stdout",
     "output_type": "stream",
     "text": [
      "             precision    recall  f1-score   support\n",
      "\n",
      "          0       0.34      0.27      0.30       421\n",
      "          1       0.44      0.32      0.37      1725\n",
      "          2       0.66      0.82      0.73      5197\n",
      "          3       0.50      0.38      0.43      2091\n",
      "          4       0.40      0.24      0.30       566\n",
      "\n",
      "avg / total       0.56      0.59      0.56     10000\n",
      "\n"
     ]
    }
   ],
   "source": [
    "print(classification_report(y_test, clf_1.predict(x_test)))"
   ]
  },
  {
   "cell_type": "code",
   "execution_count": 33,
   "metadata": {
    "collapsed": false
   },
   "outputs": [
    {
     "name": "stdout",
     "output_type": "stream",
     "text": [
      "0.5853\n"
     ]
    }
   ],
   "source": [
    "print(accuracy_score(y_test, clf_1.predict(x_test)))"
   ]
  },
  {
   "cell_type": "markdown",
   "metadata": {},
   "source": [
    "#### 5.2 Tf-Idf Pipeliine"
   ]
  },
  {
   "cell_type": "code",
   "execution_count": 40,
   "metadata": {
    "collapsed": true
   },
   "outputs": [],
   "source": [
    "clf_2 = Pipeline([\n",
    "        ('tv' , TfidfVectorizer(analyzer = 'word', tokenizer=tokenizer_list)),\n",
    "        (('clf', SVC(kernel='linear')))\n",
    "    ])"
   ]
  },
  {
   "cell_type": "code",
   "execution_count": 41,
   "metadata": {
    "collapsed": false
   },
   "outputs": [
    {
     "data": {
      "text/plain": [
       "Pipeline(steps=[('tv', TfidfVectorizer(analyzer='word', binary=False, decode_error=u'strict',\n",
       "        dtype=<type 'numpy.int64'>, encoding=u'utf-8', input=u'content',\n",
       "        lowercase=True, max_df=1.0, max_features=None, min_df=1,\n",
       "        ngram_range=(1, 1), norm=u'l2', preprocessor=None, smooth_idf=True,\n",
       " ...,\n",
       "  max_iter=-1, probability=False, random_state=None, shrinking=True,\n",
       "  tol=0.001, verbose=False))])"
      ]
     },
     "execution_count": 41,
     "metadata": {},
     "output_type": "execute_result"
    }
   ],
   "source": [
    "clf_2.fit(x_train, y_train)"
   ]
  },
  {
   "cell_type": "code",
   "execution_count": 42,
   "metadata": {
    "collapsed": false
   },
   "outputs": [
    {
     "name": "stdout",
     "output_type": "stream",
     "text": [
      "             precision    recall  f1-score   support\n",
      "\n",
      "          0       0.29      0.05      0.08       421\n",
      "          1       0.42      0.23      0.30      1725\n",
      "          2       0.60      0.86      0.71      5197\n",
      "          3       0.46      0.32      0.38      2091\n",
      "          4       0.48      0.11      0.18       566\n",
      "\n",
      "avg / total       0.52      0.56      0.51     10000\n",
      "\n"
     ]
    }
   ],
   "source": [
    "print(classification_report(y_test, clf_2.predict(x_test)))"
   ]
  },
  {
   "cell_type": "code",
   "execution_count": 43,
   "metadata": {
    "collapsed": false
   },
   "outputs": [
    {
     "name": "stdout",
     "output_type": "stream",
     "text": [
      "0.5612\n"
     ]
    }
   ],
   "source": [
    "print(accuracy_score(y_test, clf_2.predict(x_test)))"
   ]
  },
  {
   "cell_type": "code",
   "execution_count": 44,
   "metadata": {
    "collapsed": true
   },
   "outputs": [],
   "source": [
    "clf_3 = Pipeline([\n",
    "        ('vect', CountVectorizer(ngram_range=(1,2))),\n",
    "        (('sgd', SGDClassifier(loss='log', n_iter = 500, random_state=0)))\n",
    "    ])"
   ]
  },
  {
   "cell_type": "code",
   "execution_count": 45,
   "metadata": {
    "collapsed": false
   },
   "outputs": [
    {
     "data": {
      "text/plain": [
       "Pipeline(steps=[('vect', CountVectorizer(analyzer=u'word', binary=False, decode_error=u'strict',\n",
       "        dtype=<type 'numpy.int64'>, encoding=u'utf-8', input=u'content',\n",
       "        lowercase=True, max_df=1.0, max_features=None, min_df=1,\n",
       "        ngram_range=(1, 2), preprocessor=None, stop_words=None,\n",
       "        st...      penalty='l2', power_t=0.5, random_state=0, shuffle=True, verbose=0,\n",
       "       warm_start=False))])"
      ]
     },
     "execution_count": 45,
     "metadata": {},
     "output_type": "execute_result"
    }
   ],
   "source": [
    "clf_3.fit(x_train, y_train)"
   ]
  },
  {
   "cell_type": "code",
   "execution_count": 46,
   "metadata": {
    "collapsed": false
   },
   "outputs": [
    {
     "name": "stdout",
     "output_type": "stream",
     "text": [
      "             precision    recall  f1-score   support\n",
      "\n",
      "          0       0.36      0.14      0.20       421\n",
      "          1       0.46      0.25      0.32      1725\n",
      "          2       0.62      0.89      0.73      5197\n",
      "          3       0.49      0.29      0.37      2091\n",
      "          4       0.50      0.19      0.28       566\n",
      "\n",
      "avg / total       0.55      0.58      0.53     10000\n",
      "\n"
     ]
    }
   ],
   "source": [
    "print(classification_report(y_test, clf_3.predict(x_test)))"
   ]
  },
  {
   "cell_type": "code",
   "execution_count": 47,
   "metadata": {
    "collapsed": false
   },
   "outputs": [
    {
     "name": "stdout",
     "output_type": "stream",
     "text": [
      "0.5813\n"
     ]
    }
   ],
   "source": [
    "print(accuracy_score(y_test, clf_3.predict(x_test)))"
   ]
  },
  {
   "cell_type": "code",
   "execution_count": null,
   "metadata": {
    "collapsed": true
   },
   "outputs": [],
   "source": []
  },
  {
   "cell_type": "code",
   "execution_count": 65,
   "metadata": {
    "collapsed": false
   },
   "outputs": [],
   "source": [
    "clf_4 = Pipeline([\n",
    "        ('vect', CountVectorizer(tokenizer=tokenizer_list)),\n",
    "        (('sgd', SGDClassifier(loss='log', n_iter = 1000, random_state=0)))\n",
    "    ])"
   ]
  },
  {
   "cell_type": "code",
   "execution_count": 66,
   "metadata": {
    "collapsed": false
   },
   "outputs": [
    {
     "data": {
      "text/plain": [
       "Pipeline(steps=[('vect', CountVectorizer(analyzer=u'word', binary=False, decode_error=u'strict',\n",
       "        dtype=<type 'numpy.int64'>, encoding=u'utf-8', input=u'content',\n",
       "        lowercase=True, max_df=1.0, max_features=None, min_df=1,\n",
       "        ngram_range=(1, 1), preprocessor=None, stop_words=None,\n",
       "        st...      penalty='l2', power_t=0.5, random_state=0, shuffle=True, verbose=0,\n",
       "       warm_start=False))])"
      ]
     },
     "execution_count": 66,
     "metadata": {},
     "output_type": "execute_result"
    }
   ],
   "source": [
    "clf_4.fit(x_train, y_train)"
   ]
  },
  {
   "cell_type": "code",
   "execution_count": 67,
   "metadata": {
    "collapsed": false,
    "scrolled": true
   },
   "outputs": [
    {
     "name": "stdout",
     "output_type": "stream",
     "text": [
      "             precision    recall  f1-score   support\n",
      "\n",
      "          0       0.32      0.12      0.17       421\n",
      "          1       0.45      0.23      0.30      1725\n",
      "          2       0.62      0.89      0.73      5197\n",
      "          3       0.48      0.28      0.35      2091\n",
      "          4       0.45      0.17      0.24       566\n",
      "\n",
      "avg / total       0.54      0.58      0.53     10000\n",
      "\n"
     ]
    }
   ],
   "source": [
    "print(classification_report(y_test, clf_4.predict(x_test)))"
   ]
  },
  {
   "cell_type": "code",
   "execution_count": 68,
   "metadata": {
    "collapsed": false
   },
   "outputs": [
    {
     "name": "stdout",
     "output_type": "stream",
     "text": [
      "0.5765\n"
     ]
    }
   ],
   "source": [
    "print(accuracy_score(y_test, clf_4.predict(x_test)))"
   ]
  },
  {
   "cell_type": "code",
   "execution_count": null,
   "metadata": {
    "collapsed": false
   },
   "outputs": [],
   "source": []
  },
  {
   "cell_type": "markdown",
   "metadata": {},
   "source": [
    "#### 6. Class model"
   ]
  },
  {
   "cell_type": "code",
   "execution_count": 83,
   "metadata": {
    "collapsed": false
   },
   "outputs": [],
   "source": [
    "class_model1 = BaggingClassifier(DecisionTreeClassifier(),\n",
    "                           bootstrap_features=True,\n",
    "                           random_state=0).fit(x_train_cv, y_train_cv)"
   ]
  },
  {
   "cell_type": "code",
   "execution_count": 84,
   "metadata": {
    "collapsed": false
   },
   "outputs": [
    {
     "name": "stdout",
     "output_type": "stream",
     "text": [
      "             precision    recall  f1-score   support\n",
      "\n",
      "          0       0.03      0.01      0.01       421\n",
      "          1       0.16      0.08      0.11      1725\n",
      "          2       0.52      0.75      0.61      5197\n",
      "          3       0.22      0.13      0.16      2091\n",
      "          4       0.04      0.01      0.02       566\n",
      "\n",
      "avg / total       0.34      0.43      0.37     10000\n",
      "\n"
     ]
    }
   ],
   "source": [
    "print(classification_report(y_test, class_model1.predict(x_test_cv)))"
   ]
  },
  {
   "cell_type": "code",
   "execution_count": 87,
   "metadata": {
    "collapsed": false
   },
   "outputs": [
    {
     "name": "stdout",
     "output_type": "stream",
     "text": [
      "0.4308\n"
     ]
    }
   ],
   "source": [
    "print(accuracy_score(y_test, class_model1.predict(x_test_cv)))"
   ]
  },
  {
   "cell_type": "code",
   "execution_count": 89,
   "metadata": {
    "collapsed": false
   },
   "outputs": [],
   "source": [
    "rf_model = RandomForestClassifier().fit(x_train_cv, y_train_cv)"
   ]
  },
  {
   "cell_type": "code",
   "execution_count": 90,
   "metadata": {
    "collapsed": false
   },
   "outputs": [
    {
     "name": "stdout",
     "output_type": "stream",
     "text": [
      "             precision    recall  f1-score   support\n",
      "\n",
      "          0       0.05      0.02      0.03       421\n",
      "          1       0.17      0.07      0.10      1725\n",
      "          2       0.52      0.80      0.63      5197\n",
      "          3       0.21      0.09      0.13      2091\n",
      "          4       0.04      0.01      0.02       566\n",
      "\n",
      "avg / total       0.35      0.45      0.37     10000\n",
      "\n"
     ]
    }
   ],
   "source": [
    "print(classification_report(y_test, rf_model.predict(x_test_cv)))"
   ]
  },
  {
   "cell_type": "code",
   "execution_count": 92,
   "metadata": {
    "collapsed": false
   },
   "outputs": [
    {
     "name": "stdout",
     "output_type": "stream",
     "text": [
      "0.4476\n"
     ]
    }
   ],
   "source": [
    "print(accuracy_score(y_test, rf_model.predict(x_test_cv)))"
   ]
  },
  {
   "cell_type": "code",
   "execution_count": null,
   "metadata": {
    "collapsed": true
   },
   "outputs": [],
   "source": []
  },
  {
   "cell_type": "code",
   "execution_count": 198,
   "metadata": {
    "collapsed": false
   },
   "outputs": [],
   "source": [
    "p_mnb = Pipeline([\n",
    "        ('cv', CountVectorizer(tokenizer=tokenizer1, ngram_range=(1,2))),\n",
    "        (('mnb', MultinomialNB(alpha=0.01)))\n",
    "    ])"
   ]
  },
  {
   "cell_type": "code",
   "execution_count": null,
   "metadata": {
    "collapsed": false
   },
   "outputs": [],
   "source": [
    "p_mnb.fit(x_train, y_train)"
   ]
  },
  {
   "cell_type": "code",
   "execution_count": null,
   "metadata": {
    "collapsed": false
   },
   "outputs": [],
   "source": [
    "print(classification_report(y_test, p_mnb.predict(x_test)))"
   ]
  },
  {
   "cell_type": "code",
   "execution_count": null,
   "metadata": {
    "collapsed": false
   },
   "outputs": [],
   "source": [
    "print(accuracy_score(y_test, p_mnb.predict(x_test)))"
   ]
  },
  {
   "cell_type": "code",
   "execution_count": null,
   "metadata": {
    "collapsed": true
   },
   "outputs": [],
   "source": []
  },
  {
   "cell_type": "code",
   "execution_count": 193,
   "metadata": {
    "collapsed": false
   },
   "outputs": [],
   "source": [
    "p_mnb1 = Pipeline([\n",
    "        ('tv' , TfidfVectorizer(analyzer = 'word', ngram_range=(1,1), tokenizer=tokenizer1)),\n",
    "        (('mnb', MultinomialNB()))\n",
    "    ])"
   ]
  },
  {
   "cell_type": "code",
   "execution_count": 194,
   "metadata": {
    "collapsed": false
   },
   "outputs": [
    {
     "data": {
      "text/plain": [
       "Pipeline(steps=[('tv', TfidfVectorizer(analyzer='word', binary=False, decode_error=u'strict',\n",
       "        dtype=<type 'numpy.int64'>, encoding=u'utf-8', input=u'content',\n",
       "        lowercase=True, max_df=1.0, max_features=None, min_df=1,\n",
       "        ngram_range=(1, 1), norm=u'l2', preprocessor=None, smooth_idf=True,\n",
       " ...rue,\n",
       "        vocabulary=None)), ('mnb', MultinomialNB(alpha=1.0, class_prior=None, fit_prior=True))])"
      ]
     },
     "execution_count": 194,
     "metadata": {},
     "output_type": "execute_result"
    }
   ],
   "source": [
    "p_mnb1.fit(x_train, y_train)"
   ]
  },
  {
   "cell_type": "code",
   "execution_count": 195,
   "metadata": {
    "collapsed": false
   },
   "outputs": [
    {
     "name": "stdout",
     "output_type": "stream",
     "text": [
      "             precision    recall  f1-score   support\n",
      "\n",
      "          0       0.75      0.01      0.01       437\n",
      "          1       0.49      0.14      0.21      1787\n",
      "          2       0.56      0.93      0.70      5059\n",
      "          3       0.51      0.26      0.34      2121\n",
      "          4       0.33      0.01      0.01       596\n",
      "\n",
      "avg / total       0.53      0.55      0.47     10000\n",
      "\n"
     ]
    }
   ],
   "source": [
    "print(classification_report(y_test, p_mnb1.predict(x_test)))"
   ]
  },
  {
   "cell_type": "code",
   "execution_count": 196,
   "metadata": {
    "collapsed": false
   },
   "outputs": [
    {
     "name": "stdout",
     "output_type": "stream",
     "text": [
      "0.5498\n"
     ]
    }
   ],
   "source": [
    "print(accuracy_score(y_test, p_mnb1.predict(x_test)))"
   ]
  },
  {
   "cell_type": "code",
   "execution_count": null,
   "metadata": {
    "collapsed": true
   },
   "outputs": [],
   "source": []
  },
  {
   "cell_type": "code",
   "execution_count": null,
   "metadata": {
    "collapsed": true
   },
   "outputs": [],
   "source": []
  }
 ],
 "metadata": {
  "kernelspec": {
   "display_name": "Python 2",
   "language": "python",
   "name": "python2"
  },
  "language_info": {
   "codemirror_mode": {
    "name": "ipython",
    "version": 2
   },
   "file_extension": ".py",
   "mimetype": "text/x-python",
   "name": "python",
   "nbconvert_exporter": "python",
   "pygments_lexer": "ipython2",
   "version": "2.7.12"
  }
 },
 "nbformat": 4,
 "nbformat_minor": 1
}
