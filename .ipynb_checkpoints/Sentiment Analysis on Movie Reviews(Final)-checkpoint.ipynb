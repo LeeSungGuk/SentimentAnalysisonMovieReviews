{
 "cells": [
  {
   "cell_type": "code",
   "execution_count": 1,
   "metadata": {
    "collapsed": false
   },
   "outputs": [
    {
     "name": "stderr",
     "output_type": "stream",
     "text": [
      "c:\\python27\\lib\\site-packages\\sklearn\\cross_validation.py:44: DeprecationWarning: This module was deprecated in version 0.18 in favor of the model_selection module into which all the refactored classes and functions are moved. Also note that the interface of the new CV iterators are different from that of this module. This module will be removed in 0.20.\n",
      "  \"This module will be removed in 0.20.\", DeprecationWarning)\n"
     ]
    }
   ],
   "source": [
    "import pandas as pd\n",
    "import numpy as np\n",
    "import re, nltk\n",
    "import matplotlib.pylab as plt\n",
    "\n",
    "from sklearn.cross_validation import train_test_split\n",
    "from sklearn.feature_extraction.text import CountVectorizer, TfidfVectorizer, TfidfTransformer\n",
    "from sklearn.svm import SVC\n",
    "from sklearn.metrics import classification_report, accuracy_score\n",
    "from sklearn.linear_model import SGDClassifier\n",
    "from sklearn.pipeline import Pipeline\n",
    "from sklearn.tree import DecisionTreeClassifier\n",
    "from sklearn.ensemble import RandomForestClassifier, BaggingClassifier, VotingClassifier\n",
    "from sklearn.cross_validation import StratifiedKFold\n",
    "from sklearn.naive_bayes import MultinomialNB\n",
    "from sklearn.discriminant_analysis import QuadraticDiscriminantAnalysis\n",
    "\n",
    "from nltk.stem import WordNetLemmatizer\n",
    "from nltk.tokenize import word_tokenize\n",
    "from nltk.tag import pos_tag"
   ]
  },
  {
   "cell_type": "markdown",
   "metadata": {},
   "source": [
    "# Sentiment Analysis on Movie Reviews"
   ]
  },
  {
   "cell_type": "markdown",
   "metadata": {},
   "source": [
    "## Introduce\n",
    "* Rotten Tomatoes 영화 리뷰 데이터 세트\n",
    "* 부정, 약간 부정, 중립, 약간 긍정, 긍정의 5 가지 값으로 문장에 레이블을 붙이라는 질문을받습니다.\n",
    "* 0 - 부정,\n",
    "  1 - 약간 부정\n",
    "  2 - 중립,\n",
    "  3 - 약간 긍정,\n",
    "  4 - 긍정\n",
    "  분류 정확도 측정 예측 문제"
   ]
  },
  {
   "cell_type": "markdown",
   "metadata": {},
   "source": [
    "### 1. Pre processing"
   ]
  },
  {
   "cell_type": "code",
   "execution_count": 3,
   "metadata": {
    "collapsed": true
   },
   "outputs": [],
   "source": [
    "read_file = pd.read_csv('./resource/train.tsv', sep='\\t')\n",
    "test_file = pd.read_csv('./resource/test.tsv', sep='\\t')\n",
    "\n",
    "corpus_file = pd.read_excel('./resource/harvard_copus_excel.xlsx')"
   ]
  },
  {
   "cell_type": "code",
   "execution_count": 4,
   "metadata": {
    "collapsed": false
   },
   "outputs": [
    {
     "data": {
      "text/html": [
       "<div>\n",
       "<table border=\"1\" class=\"dataframe\">\n",
       "  <thead>\n",
       "    <tr style=\"text-align: right;\">\n",
       "      <th></th>\n",
       "      <th>PhraseId</th>\n",
       "      <th>SentenceId</th>\n",
       "      <th>Phrase</th>\n",
       "      <th>Sentiment</th>\n",
       "    </tr>\n",
       "  </thead>\n",
       "  <tbody>\n",
       "    <tr>\n",
       "      <th>0</th>\n",
       "      <td>1</td>\n",
       "      <td>1</td>\n",
       "      <td>A series of escapades demonstrating the adage ...</td>\n",
       "      <td>1</td>\n",
       "    </tr>\n",
       "    <tr>\n",
       "      <th>1</th>\n",
       "      <td>2</td>\n",
       "      <td>1</td>\n",
       "      <td>A series of escapades demonstrating the adage ...</td>\n",
       "      <td>2</td>\n",
       "    </tr>\n",
       "    <tr>\n",
       "      <th>2</th>\n",
       "      <td>3</td>\n",
       "      <td>1</td>\n",
       "      <td>A series</td>\n",
       "      <td>2</td>\n",
       "    </tr>\n",
       "    <tr>\n",
       "      <th>3</th>\n",
       "      <td>4</td>\n",
       "      <td>1</td>\n",
       "      <td>A</td>\n",
       "      <td>2</td>\n",
       "    </tr>\n",
       "    <tr>\n",
       "      <th>4</th>\n",
       "      <td>5</td>\n",
       "      <td>1</td>\n",
       "      <td>series</td>\n",
       "      <td>2</td>\n",
       "    </tr>\n",
       "  </tbody>\n",
       "</table>\n",
       "</div>"
      ],
      "text/plain": [
       "   PhraseId  SentenceId                                             Phrase  \\\n",
       "0         1           1  A series of escapades demonstrating the adage ...   \n",
       "1         2           1  A series of escapades demonstrating the adage ...   \n",
       "2         3           1                                           A series   \n",
       "3         4           1                                                  A   \n",
       "4         5           1                                             series   \n",
       "\n",
       "   Sentiment  \n",
       "0          1  \n",
       "1          2  \n",
       "2          2  \n",
       "3          2  \n",
       "4          2  "
      ]
     },
     "execution_count": 4,
     "metadata": {},
     "output_type": "execute_result"
    }
   ],
   "source": [
    "read_file.head()"
   ]
  },
  {
   "cell_type": "markdown",
   "metadata": {},
   "source": [
    "### 1.1 feature(X), target(Y) value 분류"
   ]
  },
  {
   "cell_type": "code",
   "execution_count": 5,
   "metadata": {
    "collapsed": false
   },
   "outputs": [],
   "source": [
    "dfx = read_file.ix[:,2]\n",
    "dfy = read_file.ix[:,3]"
   ]
  },
  {
   "cell_type": "code",
   "execution_count": 6,
   "metadata": {
    "collapsed": false
   },
   "outputs": [
    {
     "data": {
      "text/html": [
       "<div>\n",
       "<table border=\"1\" class=\"dataframe\">\n",
       "  <thead>\n",
       "    <tr style=\"text-align: right;\">\n",
       "      <th></th>\n",
       "      <th>Phrase</th>\n",
       "      <th>Sentiment</th>\n",
       "    </tr>\n",
       "  </thead>\n",
       "  <tbody>\n",
       "    <tr>\n",
       "      <th>0</th>\n",
       "      <td>A series of escapades demonstrating the adage ...</td>\n",
       "      <td>1</td>\n",
       "    </tr>\n",
       "    <tr>\n",
       "      <th>1</th>\n",
       "      <td>A series of escapades demonstrating the adage ...</td>\n",
       "      <td>2</td>\n",
       "    </tr>\n",
       "    <tr>\n",
       "      <th>2</th>\n",
       "      <td>A series</td>\n",
       "      <td>2</td>\n",
       "    </tr>\n",
       "    <tr>\n",
       "      <th>3</th>\n",
       "      <td>A</td>\n",
       "      <td>2</td>\n",
       "    </tr>\n",
       "    <tr>\n",
       "      <th>4</th>\n",
       "      <td>series</td>\n",
       "      <td>2</td>\n",
       "    </tr>\n",
       "  </tbody>\n",
       "</table>\n",
       "</div>"
      ],
      "text/plain": [
       "                                              Phrase  Sentiment\n",
       "0  A series of escapades demonstrating the adage ...          1\n",
       "1  A series of escapades demonstrating the adage ...          2\n",
       "2                                           A series          2\n",
       "3                                                  A          2\n",
       "4                                             series          2"
      ]
     },
     "execution_count": 6,
     "metadata": {},
     "output_type": "execute_result"
    }
   ],
   "source": [
    "df_xy = pd.concat([dfx, dfy], axis=1)\n",
    "df_xy.head()"
   ]
  },
  {
   "cell_type": "code",
   "execution_count": 7,
   "metadata": {
    "collapsed": false
   },
   "outputs": [
    {
     "data": {
      "text/plain": [
       "0    A series of escapades demonstrating the adage ...\n",
       "1    A series of escapades demonstrating the adage ...\n",
       "2                                             A series\n",
       "3                                                    A\n",
       "4                                               series\n",
       "5    of escapades demonstrating the adage that what...\n",
       "6                                                   of\n",
       "7    escapades demonstrating the adage that what is...\n",
       "8                                            escapades\n",
       "9    demonstrating the adage that what is good for ...\n",
       "Name: Phrase, dtype: object"
      ]
     },
     "execution_count": 7,
     "metadata": {},
     "output_type": "execute_result"
    }
   ],
   "source": [
    "dfx[:10]"
   ]
  },
  {
   "cell_type": "code",
   "execution_count": 8,
   "metadata": {
    "collapsed": false
   },
   "outputs": [
    {
     "data": {
      "text/plain": [
       "0    1\n",
       "1    2\n",
       "2    2\n",
       "3    2\n",
       "4    2\n",
       "5    2\n",
       "6    2\n",
       "7    2\n",
       "8    2\n",
       "9    2\n",
       "Name: Sentiment, dtype: int64"
      ]
     },
     "execution_count": 8,
     "metadata": {},
     "output_type": "execute_result"
    }
   ],
   "source": [
    "dfy[:10]"
   ]
  },
  {
   "cell_type": "markdown",
   "metadata": {},
   "source": [
    "## 2. Feature Engneering\n",
    "* tokenizer (문서를 분석하기 위해서는 우선 긴 문자열을 분석을 위한 작은 단위로 나누어야 한다.)\n",
    "* countervectorizer or Tf-idf \n",
    "* 다른 방법은 없는지 ?"
   ]
  },
  {
   "cell_type": "code",
   "execution_count": 41,
   "metadata": {
    "collapsed": true
   },
   "outputs": [],
   "source": [
    "lemmer = WordNetLemmatizer()\n",
    "\n",
    "def lm_tokens(tokens, lemmer):\n",
    "    # 원형 복원\n",
    "    lemming = [lemmer.lemmatize(phrase , pos=\"v\") for phrase in tokens]\n",
    "    \n",
    "    return lemming\n",
    "\n",
    "def tokenizer(words):\n",
    "    \n",
    "    filter_words = re.sub(r'[^a-zA-Z]', \" \", words)\n",
    "    tokens = nltk.word_tokenize(filter_words)\n",
    "    lemms = lm_tokens(tokens, lemmer)\n",
    "    \n",
    "    return lemms"
   ]
  },
  {
   "cell_type": "code",
   "execution_count": 42,
   "metadata": {
    "collapsed": true
   },
   "outputs": [],
   "source": [
    "def pos_tag_tokenize(doc):\n",
    "    # 품사 태깅\n",
    "    tagged_list = pos_tag(word_tokenize(doc))\n",
    "    \n",
    "    return tagged_list"
   ]
  },
  {
   "cell_type": "code",
   "execution_count": 45,
   "metadata": {
    "collapsed": false
   },
   "outputs": [],
   "source": [
    "tokenizer = [pos_tag_tokenize(row) for row in dfx]"
   ]
  },
  {
   "cell_type": "code",
   "execution_count": 61,
   "metadata": {
    "collapsed": false,
    "scrolled": true
   },
   "outputs": [
    {
     "data": {
      "text/plain": [
       "[[('A', 'DT'),\n",
       "  ('series', 'NN'),\n",
       "  ('of', 'IN'),\n",
       "  ('escapades', 'NNS'),\n",
       "  ('demonstrating', 'VBG'),\n",
       "  ('the', 'DT'),\n",
       "  ('adage', 'NN'),\n",
       "  ('that', 'IN'),\n",
       "  ('what', 'WP'),\n",
       "  ('is', 'VBZ'),\n",
       "  ('good', 'JJ'),\n",
       "  ('for', 'IN'),\n",
       "  ('the', 'DT'),\n",
       "  ('goose', 'NN'),\n",
       "  ('is', 'VBZ'),\n",
       "  ('also', 'RB'),\n",
       "  ('good', 'JJ'),\n",
       "  ('for', 'IN'),\n",
       "  ('the', 'DT'),\n",
       "  ('gander', 'NN'),\n",
       "  (',', ','),\n",
       "  ('some', 'DT'),\n",
       "  ('of', 'IN'),\n",
       "  ('which', 'WDT'),\n",
       "  ('occasionally', 'RB'),\n",
       "  ('amuses', 'VBZ'),\n",
       "  ('but', 'CC'),\n",
       "  ('none', 'NN'),\n",
       "  ('of', 'IN'),\n",
       "  ('which', 'WDT'),\n",
       "  ('amounts', 'NNS'),\n",
       "  ('to', 'TO'),\n",
       "  ('much', 'JJ'),\n",
       "  ('of', 'IN'),\n",
       "  ('a', 'DT'),\n",
       "  ('story', 'NN'),\n",
       "  ('.', '.')],\n",
       " [('A', 'DT'),\n",
       "  ('series', 'NN'),\n",
       "  ('of', 'IN'),\n",
       "  ('escapades', 'NNS'),\n",
       "  ('demonstrating', 'VBG'),\n",
       "  ('the', 'DT'),\n",
       "  ('adage', 'NN'),\n",
       "  ('that', 'IN'),\n",
       "  ('what', 'WP'),\n",
       "  ('is', 'VBZ'),\n",
       "  ('good', 'JJ'),\n",
       "  ('for', 'IN'),\n",
       "  ('the', 'DT'),\n",
       "  ('goose', 'NN')],\n",
       " [('A', 'DT'), ('series', 'NN')],\n",
       " [('A', 'DT')],\n",
       " [('series', 'NN')],\n",
       " [('of', 'IN'),\n",
       "  ('escapades', 'NNS'),\n",
       "  ('demonstrating', 'VBG'),\n",
       "  ('the', 'DT'),\n",
       "  ('adage', 'NN'),\n",
       "  ('that', 'IN'),\n",
       "  ('what', 'WP'),\n",
       "  ('is', 'VBZ'),\n",
       "  ('good', 'JJ'),\n",
       "  ('for', 'IN'),\n",
       "  ('the', 'DT'),\n",
       "  ('goose', 'NN')],\n",
       " [('of', 'IN')],\n",
       " [('escapades', 'NNS'),\n",
       "  ('demonstrating', 'VBG'),\n",
       "  ('the', 'DT'),\n",
       "  ('adage', 'NN'),\n",
       "  ('that', 'IN'),\n",
       "  ('what', 'WP'),\n",
       "  ('is', 'VBZ'),\n",
       "  ('good', 'JJ'),\n",
       "  ('for', 'IN'),\n",
       "  ('the', 'DT'),\n",
       "  ('goose', 'NN')],\n",
       " [('escapades', 'NNS')],\n",
       " [('demonstrating', 'VBG'),\n",
       "  ('the', 'DT'),\n",
       "  ('adage', 'NN'),\n",
       "  ('that', 'IN'),\n",
       "  ('what', 'WP'),\n",
       "  ('is', 'VBZ'),\n",
       "  ('good', 'JJ'),\n",
       "  ('for', 'IN'),\n",
       "  ('the', 'DT'),\n",
       "  ('goose', 'NN')],\n",
       " [('demonstrating', 'VBG'), ('the', 'DT'), ('adage', 'NN')],\n",
       " [('demonstrating', 'VBG')],\n",
       " [('the', 'DT'), ('adage', 'NN')],\n",
       " [('the', 'DT')],\n",
       " [('adage', 'NN')],\n",
       " [('that', 'DT'),\n",
       "  ('what', 'WP'),\n",
       "  ('is', 'VBZ'),\n",
       "  ('good', 'JJ'),\n",
       "  ('for', 'IN'),\n",
       "  ('the', 'DT'),\n",
       "  ('goose', 'NN')],\n",
       " [('that', 'IN')],\n",
       " [('what', 'WP'),\n",
       "  ('is', 'VBZ'),\n",
       "  ('good', 'JJ'),\n",
       "  ('for', 'IN'),\n",
       "  ('the', 'DT'),\n",
       "  ('goose', 'NN')],\n",
       " [('what', 'WP')],\n",
       " [('is', 'VBZ'),\n",
       "  ('good', 'JJ'),\n",
       "  ('for', 'IN'),\n",
       "  ('the', 'DT'),\n",
       "  ('goose', 'NN')],\n",
       " [('is', 'VBZ')],\n",
       " [('good', 'JJ'), ('for', 'IN'), ('the', 'DT'), ('goose', 'NN')],\n",
       " [('good', 'JJ')],\n",
       " [('for', 'IN'), ('the', 'DT'), ('goose', 'NN')],\n",
       " [('for', 'IN')],\n",
       " [('the', 'DT'), ('goose', 'NN')],\n",
       " [('goose', 'NN')],\n",
       " [('is', 'VBZ'),\n",
       "  ('also', 'RB'),\n",
       "  ('good', 'JJ'),\n",
       "  ('for', 'IN'),\n",
       "  ('the', 'DT'),\n",
       "  ('gander', 'NN'),\n",
       "  (',', ','),\n",
       "  ('some', 'DT'),\n",
       "  ('of', 'IN'),\n",
       "  ('which', 'WDT'),\n",
       "  ('occasionally', 'RB'),\n",
       "  ('amuses', 'VBZ'),\n",
       "  ('but', 'CC'),\n",
       "  ('none', 'NN'),\n",
       "  ('of', 'IN'),\n",
       "  ('which', 'WDT'),\n",
       "  ('amounts', 'NNS'),\n",
       "  ('to', 'TO'),\n",
       "  ('much', 'JJ'),\n",
       "  ('of', 'IN'),\n",
       "  ('a', 'DT'),\n",
       "  ('story', 'NN'),\n",
       "  ('.', '.')],\n",
       " [('is', 'VBZ'),\n",
       "  ('also', 'RB'),\n",
       "  ('good', 'JJ'),\n",
       "  ('for', 'IN'),\n",
       "  ('the', 'DT'),\n",
       "  ('gander', 'NN'),\n",
       "  (',', ','),\n",
       "  ('some', 'DT'),\n",
       "  ('of', 'IN'),\n",
       "  ('which', 'WDT'),\n",
       "  ('occasionally', 'RB'),\n",
       "  ('amuses', 'VBZ'),\n",
       "  ('but', 'CC'),\n",
       "  ('none', 'NN'),\n",
       "  ('of', 'IN'),\n",
       "  ('which', 'WDT'),\n",
       "  ('amounts', 'NNS'),\n",
       "  ('to', 'TO'),\n",
       "  ('much', 'JJ'),\n",
       "  ('of', 'IN'),\n",
       "  ('a', 'DT'),\n",
       "  ('story', 'NN')],\n",
       " [('is', 'VBZ'), ('also', 'RB')],\n",
       " [('also', 'RB')],\n",
       " [('good', 'JJ'),\n",
       "  ('for', 'IN'),\n",
       "  ('the', 'DT'),\n",
       "  ('gander', 'NN'),\n",
       "  (',', ','),\n",
       "  ('some', 'DT'),\n",
       "  ('of', 'IN'),\n",
       "  ('which', 'WDT'),\n",
       "  ('occasionally', 'RB'),\n",
       "  ('amuses', 'VBZ'),\n",
       "  ('but', 'CC'),\n",
       "  ('none', 'NN'),\n",
       "  ('of', 'IN'),\n",
       "  ('which', 'WDT'),\n",
       "  ('amounts', 'NNS'),\n",
       "  ('to', 'TO'),\n",
       "  ('much', 'JJ'),\n",
       "  ('of', 'IN'),\n",
       "  ('a', 'DT'),\n",
       "  ('story', 'NN')],\n",
       " [('for', 'IN'),\n",
       "  ('the', 'DT'),\n",
       "  ('gander', 'NN'),\n",
       "  (',', ','),\n",
       "  ('some', 'DT'),\n",
       "  ('of', 'IN'),\n",
       "  ('which', 'WDT'),\n",
       "  ('occasionally', 'RB'),\n",
       "  ('amuses', 'VBZ'),\n",
       "  ('but', 'CC'),\n",
       "  ('none', 'NN'),\n",
       "  ('of', 'IN'),\n",
       "  ('which', 'WDT'),\n",
       "  ('amounts', 'NNS'),\n",
       "  ('to', 'TO'),\n",
       "  ('much', 'JJ'),\n",
       "  ('of', 'IN'),\n",
       "  ('a', 'DT'),\n",
       "  ('story', 'NN')],\n",
       " [('the', 'DT'),\n",
       "  ('gander', 'NN'),\n",
       "  (',', ','),\n",
       "  ('some', 'DT'),\n",
       "  ('of', 'IN'),\n",
       "  ('which', 'WDT'),\n",
       "  ('occasionally', 'RB'),\n",
       "  ('amuses', 'VBZ'),\n",
       "  ('but', 'CC'),\n",
       "  ('none', 'NN'),\n",
       "  ('of', 'IN'),\n",
       "  ('which', 'WDT'),\n",
       "  ('amounts', 'NNS'),\n",
       "  ('to', 'TO'),\n",
       "  ('much', 'JJ'),\n",
       "  ('of', 'IN'),\n",
       "  ('a', 'DT'),\n",
       "  ('story', 'NN')],\n",
       " [('the', 'DT'), ('gander', 'NN'), (',', ',')],\n",
       " [('the', 'DT'), ('gander', 'NN')],\n",
       " [('gander', 'NN')],\n",
       " [(',', ',')],\n",
       " [('some', 'DT'),\n",
       "  ('of', 'IN'),\n",
       "  ('which', 'WDT'),\n",
       "  ('occasionally', 'RB'),\n",
       "  ('amuses', 'VBZ'),\n",
       "  ('but', 'CC'),\n",
       "  ('none', 'NN'),\n",
       "  ('of', 'IN'),\n",
       "  ('which', 'WDT'),\n",
       "  ('amounts', 'NNS'),\n",
       "  ('to', 'TO'),\n",
       "  ('much', 'JJ'),\n",
       "  ('of', 'IN'),\n",
       "  ('a', 'DT'),\n",
       "  ('story', 'NN')],\n",
       " [('some', 'DT'), ('of', 'IN'), ('which', 'WDT')],\n",
       " [('some', 'DT')],\n",
       " [('of', 'IN'), ('which', 'WDT')],\n",
       " [('which', 'WDT')],\n",
       " [('occasionally', 'RB'),\n",
       "  ('amuses', 'NNS'),\n",
       "  ('but', 'CC'),\n",
       "  ('none', 'NN'),\n",
       "  ('of', 'IN'),\n",
       "  ('which', 'WDT'),\n",
       "  ('amounts', 'NNS'),\n",
       "  ('to', 'TO'),\n",
       "  ('much', 'JJ'),\n",
       "  ('of', 'IN'),\n",
       "  ('a', 'DT'),\n",
       "  ('story', 'NN')],\n",
       " [('occasionally', 'RB')],\n",
       " [('amuses', 'NNS'),\n",
       "  ('but', 'CC'),\n",
       "  ('none', 'NN'),\n",
       "  ('of', 'IN'),\n",
       "  ('which', 'WDT'),\n",
       "  ('amounts', 'NNS'),\n",
       "  ('to', 'TO'),\n",
       "  ('much', 'JJ'),\n",
       "  ('of', 'IN'),\n",
       "  ('a', 'DT'),\n",
       "  ('story', 'NN')],\n",
       " [('amuses', 'NNS')],\n",
       " [('but', 'CC'),\n",
       "  ('none', 'NN'),\n",
       "  ('of', 'IN'),\n",
       "  ('which', 'WDT'),\n",
       "  ('amounts', 'NNS'),\n",
       "  ('to', 'TO'),\n",
       "  ('much', 'JJ'),\n",
       "  ('of', 'IN'),\n",
       "  ('a', 'DT'),\n",
       "  ('story', 'NN')],\n",
       " [('but', 'CC')],\n",
       " [('none', 'NN'),\n",
       "  ('of', 'IN'),\n",
       "  ('which', 'WDT'),\n",
       "  ('amounts', 'NNS'),\n",
       "  ('to', 'TO'),\n",
       "  ('much', 'JJ'),\n",
       "  ('of', 'IN'),\n",
       "  ('a', 'DT'),\n",
       "  ('story', 'NN')],\n",
       " [('none', 'NN')],\n",
       " [('of', 'IN'),\n",
       "  ('which', 'WDT'),\n",
       "  ('amounts', 'NNS'),\n",
       "  ('to', 'TO'),\n",
       "  ('much', 'JJ'),\n",
       "  ('of', 'IN'),\n",
       "  ('a', 'DT'),\n",
       "  ('story', 'NN')],\n",
       " [('which', 'WDT'),\n",
       "  ('amounts', 'VBZ'),\n",
       "  ('to', 'TO'),\n",
       "  ('much', 'JJ'),\n",
       "  ('of', 'IN'),\n",
       "  ('a', 'DT'),\n",
       "  ('story', 'NN')],\n",
       " [('amounts', 'NNS'),\n",
       "  ('to', 'TO'),\n",
       "  ('much', 'JJ'),\n",
       "  ('of', 'IN'),\n",
       "  ('a', 'DT'),\n",
       "  ('story', 'NN')],\n",
       " [('amounts', 'NNS')],\n",
       " [('to', 'TO'), ('much', 'RB'), ('of', 'IN'), ('a', 'DT'), ('story', 'NN')],\n",
       " [('to', 'TO')],\n",
       " [('much', 'RB'), ('of', 'IN'), ('a', 'DT'), ('story', 'NN')],\n",
       " [('much', 'JJ')],\n",
       " [('of', 'IN'), ('a', 'DT'), ('story', 'NN')],\n",
       " [('a', 'DT'), ('story', 'NN')],\n",
       " [('story', 'NN')],\n",
       " [('.', '.')],\n",
       " [('This', 'DT'),\n",
       "  ('quiet', 'JJ'),\n",
       "  (',', ','),\n",
       "  ('introspective', 'JJ'),\n",
       "  ('and', 'CC'),\n",
       "  ('entertaining', 'JJ'),\n",
       "  ('independent', 'JJ'),\n",
       "  ('is', 'VBZ'),\n",
       "  ('worth', 'JJ'),\n",
       "  ('seeking', 'VBG'),\n",
       "  ('.', '.')],\n",
       " [('This', 'DT'),\n",
       "  ('quiet', 'JJ'),\n",
       "  (',', ','),\n",
       "  ('introspective', 'JJ'),\n",
       "  ('and', 'CC'),\n",
       "  ('entertaining', 'JJ'),\n",
       "  ('independent', 'JJ')],\n",
       " [('This', 'DT')],\n",
       " [('quiet', 'JJ'),\n",
       "  (',', ','),\n",
       "  ('introspective', 'JJ'),\n",
       "  ('and', 'CC'),\n",
       "  ('entertaining', 'JJ'),\n",
       "  ('independent', 'JJ')],\n",
       " [('quiet', 'JJ'),\n",
       "  (',', ','),\n",
       "  ('introspective', 'JJ'),\n",
       "  ('and', 'CC'),\n",
       "  ('entertaining', 'VBG')],\n",
       " [('quiet', 'JJ')],\n",
       " [(',', ','), ('introspective', 'JJ'), ('and', 'CC'), ('entertaining', 'VBG')],\n",
       " [('introspective', 'JJ'), ('and', 'CC'), ('entertaining', 'VBG')],\n",
       " [('introspective', 'NN'), ('and', 'CC')],\n",
       " [('introspective', 'JJ')],\n",
       " [('and', 'CC')],\n",
       " [('entertaining', 'VBG')],\n",
       " [('independent', 'JJ')],\n",
       " [('is', 'VBZ'), ('worth', 'JJ'), ('seeking', 'VBG'), ('.', '.')],\n",
       " [('is', 'VBZ'), ('worth', 'JJ'), ('seeking', 'VBG')],\n",
       " [('is', 'VBZ'), ('worth', 'JJ')],\n",
       " [('worth', 'NN')],\n",
       " [('seeking', 'VBG')],\n",
       " [('Even', 'RB'),\n",
       "  ('fans', 'NNS'),\n",
       "  ('of', 'IN'),\n",
       "  ('Ismail', 'NNP'),\n",
       "  ('Merchant', 'NNP'),\n",
       "  (\"'s\", 'POS'),\n",
       "  ('work', 'NN'),\n",
       "  (',', ','),\n",
       "  ('I', 'PRP'),\n",
       "  ('suspect', 'VBP'),\n",
       "  (',', ','),\n",
       "  ('would', 'MD'),\n",
       "  ('have', 'VB'),\n",
       "  ('a', 'DT'),\n",
       "  ('hard', 'JJ'),\n",
       "  ('time', 'NN'),\n",
       "  ('sitting', 'VBG'),\n",
       "  ('through', 'IN'),\n",
       "  ('this', 'DT'),\n",
       "  ('one', 'CD'),\n",
       "  ('.', '.')],\n",
       " [('Even', 'RB'),\n",
       "  ('fans', 'NNS'),\n",
       "  ('of', 'IN'),\n",
       "  ('Ismail', 'NNP'),\n",
       "  ('Merchant', 'NNP'),\n",
       "  (\"'s\", 'POS'),\n",
       "  ('work', 'NN')],\n",
       " [('Even', 'RB'), ('fans', 'NNS')],\n",
       " [('Even', 'RB')],\n",
       " [('fans', 'NNS')],\n",
       " [('of', 'IN'),\n",
       "  ('Ismail', 'NNP'),\n",
       "  ('Merchant', 'NNP'),\n",
       "  (\"'s\", 'POS'),\n",
       "  ('work', 'NN')],\n",
       " [('Ismail', 'NNP'), ('Merchant', 'NNP'), (\"'s\", 'POS'), ('work', 'NN')],\n",
       " [('Ismail', 'NNP'), ('Merchant', 'NNP'), (\"'s\", 'POS')],\n",
       " [('Ismail', 'NN')],\n",
       " [('Merchant', 'NN'), (\"'s\", 'POS')],\n",
       " [('Merchant', 'NN')],\n",
       " [(\"'s\", 'POS')],\n",
       " [('work', 'NN')],\n",
       " [(',', ','),\n",
       "  ('I', 'PRP'),\n",
       "  ('suspect', 'VBP'),\n",
       "  (',', ','),\n",
       "  ('would', 'MD'),\n",
       "  ('have', 'VB'),\n",
       "  ('a', 'DT'),\n",
       "  ('hard', 'JJ'),\n",
       "  ('time', 'NN'),\n",
       "  ('sitting', 'VBG'),\n",
       "  ('through', 'IN'),\n",
       "  ('this', 'DT'),\n",
       "  ('one', 'CD'),\n",
       "  ('.', '.')],\n",
       " [(',', ','), ('I', 'PRP'), ('suspect', 'VBP'), (',', ',')],\n",
       " [('I', 'PRP'), ('suspect', 'VBP'), (',', ',')],\n",
       " [('I', 'PRP'), ('suspect', 'VBP')],\n",
       " [('I', 'PRP')],\n",
       " [('suspect', 'NN')]]"
      ]
     },
     "execution_count": 61,
     "metadata": {},
     "output_type": "execute_result"
    }
   ],
   "source": [
    "tokenizer[:100]"
   ]
  },
  {
   "cell_type": "markdown",
   "metadata": {},
   "source": [
    "### 2.1 상위 50개 단어 빈도"
   ]
  },
  {
   "cell_type": "code",
   "execution_count": 63,
   "metadata": {
    "collapsed": false
   },
   "outputs": [],
   "source": [
    "row_data = [ t for d in tokenizer for t in d ]"
   ]
  },
  {
   "cell_type": "code",
   "execution_count": 72,
   "metadata": {
    "collapsed": false
   },
   "outputs": [
    {
     "data": {
      "image/png": "[encoded data removed]",
      "text/plain": [
       "<matplotlib.figure.Figure at 0x22b94110>"
      ]
     },
     "metadata": {},
     "output_type": "display_data"
    }
   ],
   "source": [
    "text = nltk.Text(row_data)\n",
    "plt.figure(figsize=(10,5))\n",
    "text.plot(50)\n",
    "plt.show()"
   ]
  },
  {
   "cell_type": "markdown",
   "metadata": {},
   "source": [
    "## 3. Model"
   ]
  },
  {
   "cell_type": "markdown",
   "metadata": {},
   "source": [
    "### 3.1 Model의 종류\n",
    "* SVC (서포트 벡터 머신)\n",
    "* 나이브 베이즈 모형\n",
    "* 랜덤 포레스트"
   ]
  },
  {
   "cell_type": "code",
   "execution_count": 9,
   "metadata": {
    "collapsed": true
   },
   "outputs": [],
   "source": [
    "# 모델 학습 시킬 x_traing data, 예측할 y_train data  data들을 랜덤으로 분류한다.\n",
    "x_train, x_test, y_train, y_test = train_test_split(dfx, dfy, train_size = 50000, test_size = 30000)"
   ]
  },
  {
   "cell_type": "code",
   "execution_count": 9,
   "metadata": {
    "collapsed": true
   },
   "outputs": [],
   "source": [
    "p_mnb1 = Pipeline([\n",
    "        ('tv' , TfidfVectorizer(analyzer = 'word', tokenizer=tokenizer, ngram_range=(1,2))),\n",
    "        (('mnb', MultinomialNB()))\n",
    "    ])"
   ]
  },
  {
   "cell_type": "code",
   "execution_count": 17,
   "metadata": {
    "collapsed": false
   },
   "outputs": [
    {
     "data": {
      "text/plain": [
       "Pipeline(steps=[('tv', TfidfVectorizer(analyzer='word', binary=False, decode_error=u'strict',\n",
       "        dtype=<type 'numpy.int64'>, encoding=u'utf-8', input=u'content',\n",
       "        lowercase=True, max_df=1.0, max_features=None, min_df=1,\n",
       "        ngram_range=(1, 2), norm=u'l2', preprocessor=None, smooth_idf=True,\n",
       " ...rue,\n",
       "        vocabulary=None)), ('mnb', MultinomialNB(alpha=1.0, class_prior=None, fit_prior=True))])"
      ]
     },
     "execution_count": 17,
     "metadata": {},
     "output_type": "execute_result"
    }
   ],
   "source": [
    "p_mnb1.fit(x_train, y_train)"
   ]
  },
  {
   "cell_type": "code",
   "execution_count": 18,
   "metadata": {
    "collapsed": false
   },
   "outputs": [
    {
     "name": "stdout",
     "output_type": "stream",
     "text": [
      "             precision    recall  f1-score   support\n",
      "\n",
      "          0       0.86      0.00      0.01      1352\n",
      "          1       0.52      0.13      0.21      5208\n",
      "          2       0.57      0.95      0.71     15340\n",
      "          3       0.55      0.27      0.36      6296\n",
      "          4       0.88      0.01      0.03      1804\n",
      "\n",
      "avg / total       0.59      0.57      0.48     30000\n",
      "\n",
      "****************************************************************************************************\n",
      "0.565866666667\n"
     ]
    }
   ],
   "source": [
    "print(classification_report(y_test, p_mnb1.predict(x_test)))\n",
    "print('*' * 100)\n",
    "print(accuracy_score(y_test, p_mnb1.predict(x_test)))"
   ]
  },
  {
   "cell_type": "code",
   "execution_count": 24,
   "metadata": {
    "collapsed": true
   },
   "outputs": [],
   "source": [
    "p_mnb2 = Pipeline([\n",
    "        ('cv', CountVectorizer(tokenizer=pos_tag_tokenize)),\n",
    "        (('mnb', MultinomialNB()))\n",
    "    ])"
   ]
  },
  {
   "cell_type": "code",
   "execution_count": 25,
   "metadata": {
    "collapsed": false
   },
   "outputs": [
    {
     "data": {
      "text/plain": [
       "Pipeline(steps=[('cv', CountVectorizer(analyzer=u'word', binary=False, decode_error=u'strict',\n",
       "        dtype=<type 'numpy.int64'>, encoding=u'utf-8', input=u'content',\n",
       "        lowercase=True, max_df=1.0, max_features=None, min_df=1,\n",
       "        ngram_range=(1, 1), preprocessor=None, stop_words=None,\n",
       "        stri...B0>,\n",
       "        vocabulary=None)), ('mnb', MultinomialNB(alpha=1.0, class_prior=None, fit_prior=True))])"
      ]
     },
     "execution_count": 25,
     "metadata": {},
     "output_type": "execute_result"
    }
   ],
   "source": [
    "p_mnb2.fit(x_train, y_train)"
   ]
  },
  {
   "cell_type": "code",
   "execution_count": 26,
   "metadata": {
    "collapsed": false
   },
   "outputs": [
    {
     "name": "stdout",
     "output_type": "stream",
     "text": [
      "             precision    recall  f1-score   support\n",
      "\n",
      "          0       0.44      0.13      0.20      1352\n",
      "          1       0.44      0.39      0.41      5208\n",
      "          2       0.66      0.77      0.71     15340\n",
      "          3       0.48      0.50      0.49      6296\n",
      "          4       0.47      0.17      0.25      1804\n",
      "\n",
      "avg / total       0.56      0.58      0.56     30000\n",
      "\n",
      "****************************************************************************************************\n",
      "0.5792\n"
     ]
    }
   ],
   "source": [
    "print(classification_report(y_test, p_mnb2.predict(x_test)))\n",
    "print('*' * 100)\n",
    "print(accuracy_score(y_test, p_mnb2.predict(x_test)))"
   ]
  },
  {
   "cell_type": "code",
   "execution_count": 10,
   "metadata": {
    "collapsed": true
   },
   "outputs": [],
   "source": [
    "clf_1 = Pipeline([\n",
    "        ('vect', CountVectorizer(tokenizer=tokenizer)),\n",
    "        (('rfc', RandomForestClassifier()))\n",
    "    ])"
   ]
  },
  {
   "cell_type": "code",
   "execution_count": 11,
   "metadata": {
    "collapsed": false
   },
   "outputs": [
    {
     "data": {
      "text/plain": [
       "Pipeline(steps=[('vect', CountVectorizer(analyzer=u'word', binary=False, decode_error=u'strict',\n",
       "        dtype=<type 'numpy.int64'>, encoding=u'utf-8', input=u'content',\n",
       "        lowercase=True, max_df=1.0, max_features=None, min_df=1,\n",
       "        ngram_range=(1, 1), preprocessor=None, stop_words=None,\n",
       "        st...imators=10, n_jobs=1, oob_score=False, random_state=None,\n",
       "            verbose=0, warm_start=False))])"
      ]
     },
     "execution_count": 11,
     "metadata": {},
     "output_type": "execute_result"
    }
   ],
   "source": [
    "clf_1.fit(x_train, y_train)"
   ]
  },
  {
   "cell_type": "code",
   "execution_count": 12,
   "metadata": {
    "collapsed": false
   },
   "outputs": [
    {
     "name": "stdout",
     "output_type": "stream",
     "text": [
      "             precision    recall  f1-score   support\n",
      "\n",
      "          0       0.38      0.26      0.31      1346\n",
      "          1       0.49      0.36      0.42      5278\n",
      "          2       0.65      0.82      0.73     15338\n",
      "          3       0.49      0.38      0.43      6237\n",
      "          4       0.49      0.31      0.38      1801\n",
      "\n",
      "avg / total       0.57      0.59      0.57     30000\n",
      "\n",
      "****************************************************************************************************\n",
      "0.592066666667\n"
     ]
    }
   ],
   "source": [
    "print(classification_report(y_test, clf_1.predict(x_test)))\n",
    "print('*' * 100)\n",
    "print(accuracy_score(y_test, clf_1.predict(x_test)))"
   ]
  },
  {
   "cell_type": "code",
   "execution_count": 10,
   "metadata": {
    "collapsed": true
   },
   "outputs": [],
   "source": [
    "clf_2 = Pipeline([\n",
    "        ('tv' , TfidfVectorizer(analyzer = 'word', tokenizer=tokenizer)),\n",
    "        (('clf', SVC(kernel='linear')))\n",
    "    ])"
   ]
  },
  {
   "cell_type": "code",
   "execution_count": 11,
   "metadata": {
    "collapsed": false
   },
   "outputs": [
    {
     "data": {
      "text/plain": [
       "Pipeline(steps=[('tv', TfidfVectorizer(analyzer='word', binary=False, decode_error=u'strict',\n",
       "        dtype=<type 'numpy.int64'>, encoding=u'utf-8', input=u'content',\n",
       "        lowercase=True, max_df=1.0, max_features=None, min_df=1,\n",
       "        ngram_range=(1, 1), norm=u'l2', preprocessor=None, smooth_idf=True,\n",
       " ...,\n",
       "  max_iter=-1, probability=False, random_state=None, shrinking=True,\n",
       "  tol=0.001, verbose=False))])"
      ]
     },
     "execution_count": 11,
     "metadata": {},
     "output_type": "execute_result"
    }
   ],
   "source": [
    "clf_2.fit(x_train, y_train)"
   ]
  },
  {
   "cell_type": "code",
   "execution_count": 12,
   "metadata": {
    "collapsed": false
   },
   "outputs": [
    {
     "name": "stdout",
     "output_type": "stream",
     "text": [
      "             precision    recall  f1-score   support\n",
      "\n",
      "          0       0.53      0.15      0.23      1339\n",
      "          1       0.50      0.37      0.43      5236\n",
      "          2       0.66      0.86      0.75     15273\n",
      "          3       0.55      0.44      0.49      6367\n",
      "          4       0.59      0.18      0.28      1785\n",
      "\n",
      "avg / total       0.60      0.62      0.59     30000\n",
      "\n",
      "****************************************************************************************************\n",
      "0.615266666667\n"
     ]
    }
   ],
   "source": [
    "print(classification_report(y_test, clf_2.predict(x_test)))\n",
    "print('*' * 100)\n",
    "print(accuracy_score(y_test, clf_2.predict(x_test)))"
   ]
  },
  {
   "cell_type": "markdown",
   "metadata": {
    "collapsed": true
   },
   "source": [
    "## 4. Model 예측 및  Kaggle 결과 Accuracy"
   ]
  },
  {
   "cell_type": "code",
   "execution_count": 14,
   "metadata": {
    "collapsed": false
   },
   "outputs": [
    {
     "data": {
      "text/html": [
       "<div>\n",
       "<table border=\"1\" class=\"dataframe\">\n",
       "  <thead>\n",
       "    <tr style=\"text-align: right;\">\n",
       "      <th></th>\n",
       "      <th>PhraseId</th>\n",
       "      <th>SentenceId</th>\n",
       "      <th>Phrase</th>\n",
       "    </tr>\n",
       "  </thead>\n",
       "  <tbody>\n",
       "    <tr>\n",
       "      <th>0</th>\n",
       "      <td>156061</td>\n",
       "      <td>8545</td>\n",
       "      <td>An intermittently pleasing but mostly routine ...</td>\n",
       "    </tr>\n",
       "    <tr>\n",
       "      <th>1</th>\n",
       "      <td>156062</td>\n",
       "      <td>8545</td>\n",
       "      <td>An intermittently pleasing but mostly routine ...</td>\n",
       "    </tr>\n",
       "    <tr>\n",
       "      <th>2</th>\n",
       "      <td>156063</td>\n",
       "      <td>8545</td>\n",
       "      <td>An</td>\n",
       "    </tr>\n",
       "    <tr>\n",
       "      <th>3</th>\n",
       "      <td>156064</td>\n",
       "      <td>8545</td>\n",
       "      <td>intermittently pleasing but mostly routine effort</td>\n",
       "    </tr>\n",
       "    <tr>\n",
       "      <th>4</th>\n",
       "      <td>156065</td>\n",
       "      <td>8545</td>\n",
       "      <td>intermittently pleasing but mostly routine</td>\n",
       "    </tr>\n",
       "  </tbody>\n",
       "</table>\n",
       "</div>"
      ],
      "text/plain": [
       "   PhraseId  SentenceId                                             Phrase\n",
       "0    156061        8545  An intermittently pleasing but mostly routine ...\n",
       "1    156062        8545  An intermittently pleasing but mostly routine ...\n",
       "2    156063        8545                                                 An\n",
       "3    156064        8545  intermittently pleasing but mostly routine effort\n",
       "4    156065        8545         intermittently pleasing but mostly routine"
      ]
     },
     "execution_count": 14,
     "metadata": {},
     "output_type": "execute_result"
    }
   ],
   "source": [
    "# Test Data Set\n",
    "test_file.head()"
   ]
  },
  {
   "cell_type": "code",
   "execution_count": 16,
   "metadata": {
    "collapsed": false
   },
   "outputs": [],
   "source": [
    "test_x = test_file.ix[:,2]"
   ]
  },
  {
   "cell_type": "code",
   "execution_count": 18,
   "metadata": {
    "collapsed": true
   },
   "outputs": [],
   "source": [
    "y_pred = clf_2.predict(test_x)"
   ]
  },
  {
   "cell_type": "code",
   "execution_count": 20,
   "metadata": {
    "collapsed": false
   },
   "outputs": [
    {
     "data": {
      "text/plain": [
       "66292"
      ]
     },
     "execution_count": 20,
     "metadata": {},
     "output_type": "execute_result"
    }
   ],
   "source": [
    "len(y_pred)"
   ]
  },
  {
   "cell_type": "code",
   "execution_count": 29,
   "metadata": {
    "collapsed": false
   },
   "outputs": [],
   "source": [
    "predict_data = pd.DataFrame({'PharaseId' : test_file.ix[:,0], 'SentenceId' : test_file.ix[:,1], 'Phrase' : test_file.ix[:,2], 'Sentiment' : y_pred})"
   ]
  },
  {
   "cell_type": "code",
   "execution_count": 30,
   "metadata": {
    "collapsed": false
   },
   "outputs": [
    {
     "data": {
      "text/html": [
       "<div>\n",
       "<table border=\"1\" class=\"dataframe\">\n",
       "  <thead>\n",
       "    <tr style=\"text-align: right;\">\n",
       "      <th></th>\n",
       "      <th>PharaseId</th>\n",
       "      <th>Phrase</th>\n",
       "      <th>SentenceId</th>\n",
       "      <th>Sentiment</th>\n",
       "    </tr>\n",
       "  </thead>\n",
       "  <tbody>\n",
       "    <tr>\n",
       "      <th>0</th>\n",
       "      <td>156061</td>\n",
       "      <td>An intermittently pleasing but mostly routine ...</td>\n",
       "      <td>8545</td>\n",
       "      <td>3</td>\n",
       "    </tr>\n",
       "    <tr>\n",
       "      <th>1</th>\n",
       "      <td>156062</td>\n",
       "      <td>An intermittently pleasing but mostly routine ...</td>\n",
       "      <td>8545</td>\n",
       "      <td>3</td>\n",
       "    </tr>\n",
       "    <tr>\n",
       "      <th>2</th>\n",
       "      <td>156063</td>\n",
       "      <td>An</td>\n",
       "      <td>8545</td>\n",
       "      <td>3</td>\n",
       "    </tr>\n",
       "    <tr>\n",
       "      <th>3</th>\n",
       "      <td>156064</td>\n",
       "      <td>intermittently pleasing but mostly routine effort</td>\n",
       "      <td>8545</td>\n",
       "      <td>3</td>\n",
       "    </tr>\n",
       "    <tr>\n",
       "      <th>4</th>\n",
       "      <td>156065</td>\n",
       "      <td>intermittently pleasing but mostly routine</td>\n",
       "      <td>8545</td>\n",
       "      <td>3</td>\n",
       "    </tr>\n",
       "  </tbody>\n",
       "</table>\n",
       "</div>"
      ],
      "text/plain": [
       "   PharaseId                                             Phrase  SentenceId  \\\n",
       "0     156061  An intermittently pleasing but mostly routine ...        8545   \n",
       "1     156062  An intermittently pleasing but mostly routine ...        8545   \n",
       "2     156063                                                 An        8545   \n",
       "3     156064  intermittently pleasing but mostly routine effort        8545   \n",
       "4     156065         intermittently pleasing but mostly routine        8545   \n",
       "\n",
       "   Sentiment  \n",
       "0          3  \n",
       "1          3  \n",
       "2          3  \n",
       "3          3  \n",
       "4          3  "
      ]
     },
     "execution_count": 30,
     "metadata": {},
     "output_type": "execute_result"
    }
   ],
   "source": [
    "predict_data.head()"
   ]
  },
  {
   "cell_type": "code",
   "execution_count": 31,
   "metadata": {
    "collapsed": true
   },
   "outputs": [],
   "source": [
    "submit_data = pd.DataFrame({'PharaseId' : test_file.ix[:,0], 'Sentiment' : y_pred})"
   ]
  },
  {
   "cell_type": "code",
   "execution_count": 35,
   "metadata": {
    "collapsed": false
   },
   "outputs": [],
   "source": [
    "submit_data.to_csv('Sentiment Analysis on Movie Reviews.csv' , index=False)"
   ]
  },
  {
   "cell_type": "markdown",
   "metadata": {
    "collapsed": true
   },
   "source": [
    "## Kaggle 결론\n",
    "![linkein](./resource/3.png)"
   ]
  },
  {
   "cell_type": "code",
   "execution_count": null,
   "metadata": {
    "collapsed": true
   },
   "outputs": [],
   "source": []
  }
 ],
 "metadata": {
  "kernelspec": {
   "display_name": "Python 2",
   "language": "python",
   "name": "python2"
  },
  "language_info": {
   "codemirror_mode": {
    "name": "ipython",
    "version": 2
   },
   "file_extension": ".py",
   "mimetype": "text/x-python",
   "name": "python",
   "nbconvert_exporter": "python",
   "pygments_lexer": "ipython2",
   "version": "2.7.12"
  }
 },
 "nbformat": 4,
 "nbformat_minor": 1
}
